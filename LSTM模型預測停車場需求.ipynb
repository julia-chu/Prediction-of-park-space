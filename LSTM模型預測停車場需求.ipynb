{
 "cells": [
  {
   "cell_type": "code",
   "execution_count": 1,
   "metadata": {
    "scrolled": true
   },
   "outputs": [],
   "source": [
    "import pandas as pd\n",
    "import numpy as np\n",
    "\n",
    "import matplotlib.pyplot as plt\n",
    "\n",
    "from sklearn.metrics import f1_score\n",
    "from sklearn.metrics import confusion_matrix \n",
    "\n",
    "from tqdm import tqdm_notebook\n",
    "from sklearn.preprocessing import StandardScaler\n",
    "import torch\n",
    "import torch.nn as nn\n",
    "from torch.nn import Parameter\n",
    "from torch.nn import init\n",
    "from torch import Tensor\n",
    "import xlrd\n",
    "import numpy as np\n",
    "from math import sqrt\n",
    "import pandas as pd\n",
    "import time\n",
    "import datetime\n",
    "import matplotlib.pyplot as plt\n",
    "import math\n",
    "import random as rd\n",
    "import calendar\n",
    "from torch.autograd import Variable\n",
    "from sklearn.preprocessing import minmax_scale \n",
    "from sklearn.preprocessing import MinMaxScaler\n",
    "from sklearn.metrics import mean_squared_error,mean_absolute_error\n",
    "from sklearn import preprocessing\n",
    "import csv\n",
    "import tensorflow\n",
    "from tensorflow.keras.layers import LSTM,Embedding\n",
    "from tensorflow.keras.layers import Dense, Dropout, RepeatVector\n",
    "from tensorflow.keras.callbacks import EarlyStopping\n",
    "from tensorflow.keras.optimizers import SGD, Adam\n",
    "from tensorflow.keras import Sequential\n",
    "from tensorflow.keras.layers import Conv2D, Flatten, Dense, BatchNormalization\n",
    "\n",
    "# plot feature importance manually\n",
    "from numpy import loadtxt\n",
    "from xgboost import XGBRegressor\n",
    "from matplotlib import pyplot\n",
    "from xgboost import plot_importance\n",
    "from sklearn.metrics import mean_absolute_percentage_error\n",
    "from sklearn.preprocessing import MinMaxScaler\n",
    "#kernel_regularizer=l2(0.0001),bias_regularizer=l2(0.001),recurrent_regularizer=l2(0.0001)"
   ]
  },
  {
   "cell_type": "code",
   "execution_count": 2,
   "metadata": {},
   "outputs": [],
   "source": [
    "def insert(df, i, df_add):\n",
    "    df1 = df.iloc[:i, :]\n",
    "    df2 = df.iloc[i:, :]\n",
    "    df_new = pd.concat([df1, df_add, df2], ignore_index=True)\n",
    "    return df_new\n",
    "def mape(y_true, y_pred):\n",
    "    return np.mean(np.abs((y_true - y_pred) / y_true)) * 100"
   ]
  },
  {
   "cell_type": "markdown",
   "metadata": {},
   "source": [
    "# 大安高工停車場_LSTM"
   ]
  },
  {
   "cell_type": "code",
   "execution_count": 3,
   "metadata": {},
   "outputs": [],
   "source": [
    "Da_data = pd.read_csv('data_大安高工.csv')\n",
    "Da_wea = pd.read_csv('Son_data.csv')"
   ]
  },
  {
   "cell_type": "code",
   "execution_count": 4,
   "metadata": {},
   "outputs": [],
   "source": [
    "Da_data = Da_data.rename(columns={'Unnamed: 0': '時間'}) \n",
    "Da_wea = Da_wea.drop(columns={'Unnamed: 0'}) "
   ]
  },
  {
   "cell_type": "code",
   "execution_count": 5,
   "metadata": {
    "scrolled": false
   },
   "outputs": [
    {
     "data": {
      "text/plain": [
       "日期      0\n",
       "測站      0\n",
       "觀測時間    0\n",
       "測站氣壓    0\n",
       "氣溫      0\n",
       "相對溼度    0\n",
       "降水量     0\n",
       "dtype: int64"
      ]
     },
     "execution_count": 5,
     "metadata": {},
     "output_type": "execute_result"
    }
   ],
   "source": [
    "Da_wea.isnull().sum()"
   ]
  },
  {
   "cell_type": "code",
   "execution_count": 6,
   "metadata": {
    "scrolled": true
   },
   "outputs": [],
   "source": [
    "tor=Da_wea.loc[Da_wea['觀測時間']==24.0]\n",
    "dawea = Da_wea.drop(Da_wea[Da_wea['觀測時間']==24.0].index)"
   ]
  },
  {
   "cell_type": "code",
   "execution_count": 7,
   "metadata": {},
   "outputs": [],
   "source": [
    "for i in range(0,365):\n",
    "    dawea=insert(dawea,23*i,tor.iloc[[i,]])"
   ]
  },
  {
   "cell_type": "code",
   "execution_count": 8,
   "metadata": {},
   "outputs": [],
   "source": [
    "\n",
    "dawea=dawea[['測站氣壓','氣溫','相對溼度','降水量']]\n",
    "scaler = MinMaxScaler(feature_range=(0, 1)).fit(dawea)\n",
    "X_scaled = scaler.transform(dawea) #天氣資訊歸一化"
   ]
  },
  {
   "cell_type": "code",
   "execution_count": 9,
   "metadata": {},
   "outputs": [],
   "source": [
    "Dawea = pd.DataFrame(X_scaled)\n",
    "Dawea.columns = ['測站氣壓','氣溫','相對溼度','降水量']"
   ]
  },
  {
   "cell_type": "code",
   "execution_count": 10,
   "metadata": {},
   "outputs": [],
   "source": [
    "Da_all = pd.concat([Da_data,Dawea],axis=1)"
   ]
  },
  {
   "cell_type": "code",
   "execution_count": 11,
   "metadata": {
    "scrolled": true
   },
   "outputs": [],
   "source": [
    "weak=pd.get_dummies(Da_all['星期幾'])\n",
    "Da_all=Da_all.drop(labels=['星期幾'],axis='columns')"
   ]
  },
  {
   "cell_type": "code",
   "execution_count": 12,
   "metadata": {},
   "outputs": [],
   "source": [
    "Da_all=pd.concat([Da_all,weak],axis=1)\n",
    "Da_all['Time']=Da_all['時間'].str.split(' ').str.get(1)"
   ]
  },
  {
   "cell_type": "code",
   "execution_count": 13,
   "metadata": {},
   "outputs": [],
   "source": [
    "Da_all=Da_all[['時間','Time', '停留時間(秒)', '進場數量', '出場數量', '時段停車數', '週轉率', '使用率', '停車延時', '測站氣壓',\n",
    "       '氣溫', '相對溼度', '降水量', 'Friday', 'Monday', 'Saturday',\n",
    "       'Sunday', 'Thursday', 'Tuesday', 'Wednesday']]"
   ]
  },
  {
   "cell_type": "code",
   "execution_count": 14,
   "metadata": {},
   "outputs": [],
   "source": [
    "Da_all = Da_all.join(pd.get_dummies(Da_all.Time))\n",
    "Da_all=Da_all.drop(labels=['Time'],axis='columns')"
   ]
  },
  {
   "cell_type": "code",
   "execution_count": 15,
   "metadata": {},
   "outputs": [],
   "source": [
    "scale = StandardScaler() #z-scaler物件\n",
    "scale_param = scale.fit(Da_all['停留時間(秒)'].values.reshape(-1, 1))\n",
    "Da_all['停留時間(秒)'] = scale.fit_transform(Da_all['停留時間(秒)'].values.reshape(-1, 1),scale_param)"
   ]
  },
  {
   "cell_type": "code",
   "execution_count": 16,
   "metadata": {
    "scrolled": true
   },
   "outputs": [
    {
     "data": {
      "text/plain": [
       "Index(['時間', '停留時間(秒)', '進場數量', '出場數量', '時段停車數', '週轉率', '使用率', '停車延時', '測站氣壓',\n",
       "       '氣溫', '相對溼度', '降水量', 'Friday', 'Monday', 'Saturday', 'Sunday',\n",
       "       'Thursday', 'Tuesday', 'Wednesday', '00:00:00', '01:00:00', '02:00:00',\n",
       "       '03:00:00', '04:00:00', '05:00:00', '06:00:00', '07:00:00', '08:00:00',\n",
       "       '09:00:00', '10:00:00', '11:00:00', '12:00:00', '13:00:00', '14:00:00',\n",
       "       '15:00:00', '16:00:00', '17:00:00', '18:00:00', '19:00:00', '20:00:00',\n",
       "       '21:00:00', '22:00:00', '23:00:00'],\n",
       "      dtype='object')"
      ]
     },
     "execution_count": 16,
     "metadata": {},
     "output_type": "execute_result"
    }
   ],
   "source": [
    "Da_all.columns"
   ]
  },
  {
   "cell_type": "code",
   "execution_count": 107,
   "metadata": {},
   "outputs": [
    {
     "data": {
      "text/html": [
       "<div>\n",
       "<style scoped>\n",
       "    .dataframe tbody tr th:only-of-type {\n",
       "        vertical-align: middle;\n",
       "    }\n",
       "\n",
       "    .dataframe tbody tr th {\n",
       "        vertical-align: top;\n",
       "    }\n",
       "\n",
       "    .dataframe thead th {\n",
       "        text-align: right;\n",
       "    }\n",
       "</style>\n",
       "<table border=\"1\" class=\"dataframe\">\n",
       "  <thead>\n",
       "    <tr style=\"text-align: right;\">\n",
       "      <th></th>\n",
       "      <th>時間</th>\n",
       "      <th>停留時間(秒)</th>\n",
       "      <th>進場數量</th>\n",
       "      <th>出場數量</th>\n",
       "      <th>時段停車數</th>\n",
       "      <th>週轉率</th>\n",
       "      <th>使用率</th>\n",
       "      <th>停車延時</th>\n",
       "      <th>測站氣壓</th>\n",
       "      <th>氣溫</th>\n",
       "      <th>...</th>\n",
       "      <th>14:00:00</th>\n",
       "      <th>15:00:00</th>\n",
       "      <th>16:00:00</th>\n",
       "      <th>17:00:00</th>\n",
       "      <th>18:00:00</th>\n",
       "      <th>19:00:00</th>\n",
       "      <th>20:00:00</th>\n",
       "      <th>21:00:00</th>\n",
       "      <th>22:00:00</th>\n",
       "      <th>23:00:00</th>\n",
       "    </tr>\n",
       "  </thead>\n",
       "  <tbody>\n",
       "    <tr>\n",
       "      <th>0</th>\n",
       "      <td>2020-04-01 00:00:00</td>\n",
       "      <td>40.970907</td>\n",
       "      <td>2.0</td>\n",
       "      <td>0.0</td>\n",
       "      <td>2</td>\n",
       "      <td>0.003883</td>\n",
       "      <td>0.002330</td>\n",
       "      <td>1.200000</td>\n",
       "      <td>0.649682</td>\n",
       "      <td>0.327815</td>\n",
       "      <td>...</td>\n",
       "      <td>0</td>\n",
       "      <td>0</td>\n",
       "      <td>0</td>\n",
       "      <td>0</td>\n",
       "      <td>0</td>\n",
       "      <td>0</td>\n",
       "      <td>0</td>\n",
       "      <td>0</td>\n",
       "      <td>0</td>\n",
       "      <td>0</td>\n",
       "    </tr>\n",
       "    <tr>\n",
       "      <th>1</th>\n",
       "      <td>2020-04-01 01:00:00</td>\n",
       "      <td>-0.469281</td>\n",
       "      <td>0.0</td>\n",
       "      <td>0.0</td>\n",
       "      <td>2</td>\n",
       "      <td>0.003883</td>\n",
       "      <td>0.003883</td>\n",
       "      <td>2.000000</td>\n",
       "      <td>0.429936</td>\n",
       "      <td>0.430464</td>\n",
       "      <td>...</td>\n",
       "      <td>0</td>\n",
       "      <td>0</td>\n",
       "      <td>0</td>\n",
       "      <td>0</td>\n",
       "      <td>0</td>\n",
       "      <td>0</td>\n",
       "      <td>0</td>\n",
       "      <td>0</td>\n",
       "      <td>0</td>\n",
       "      <td>0</td>\n",
       "    </tr>\n",
       "    <tr>\n",
       "      <th>2</th>\n",
       "      <td>2020-04-01 02:00:00</td>\n",
       "      <td>-0.469281</td>\n",
       "      <td>0.0</td>\n",
       "      <td>0.0</td>\n",
       "      <td>2</td>\n",
       "      <td>0.003883</td>\n",
       "      <td>0.003883</td>\n",
       "      <td>2.000000</td>\n",
       "      <td>0.449045</td>\n",
       "      <td>0.407285</td>\n",
       "      <td>...</td>\n",
       "      <td>0</td>\n",
       "      <td>0</td>\n",
       "      <td>0</td>\n",
       "      <td>0</td>\n",
       "      <td>0</td>\n",
       "      <td>0</td>\n",
       "      <td>0</td>\n",
       "      <td>0</td>\n",
       "      <td>0</td>\n",
       "      <td>0</td>\n",
       "    </tr>\n",
       "    <tr>\n",
       "      <th>3</th>\n",
       "      <td>2020-04-01 03:00:00</td>\n",
       "      <td>-0.469281</td>\n",
       "      <td>0.0</td>\n",
       "      <td>0.0</td>\n",
       "      <td>2</td>\n",
       "      <td>0.003883</td>\n",
       "      <td>0.003883</td>\n",
       "      <td>2.000000</td>\n",
       "      <td>0.452229</td>\n",
       "      <td>0.384106</td>\n",
       "      <td>...</td>\n",
       "      <td>0</td>\n",
       "      <td>0</td>\n",
       "      <td>0</td>\n",
       "      <td>0</td>\n",
       "      <td>0</td>\n",
       "      <td>0</td>\n",
       "      <td>0</td>\n",
       "      <td>0</td>\n",
       "      <td>0</td>\n",
       "      <td>0</td>\n",
       "    </tr>\n",
       "    <tr>\n",
       "      <th>4</th>\n",
       "      <td>2020-04-01 04:00:00</td>\n",
       "      <td>-0.469281</td>\n",
       "      <td>0.0</td>\n",
       "      <td>0.0</td>\n",
       "      <td>2</td>\n",
       "      <td>0.003883</td>\n",
       "      <td>0.003883</td>\n",
       "      <td>2.000000</td>\n",
       "      <td>0.477707</td>\n",
       "      <td>0.377483</td>\n",
       "      <td>...</td>\n",
       "      <td>0</td>\n",
       "      <td>0</td>\n",
       "      <td>0</td>\n",
       "      <td>0</td>\n",
       "      <td>0</td>\n",
       "      <td>0</td>\n",
       "      <td>0</td>\n",
       "      <td>0</td>\n",
       "      <td>0</td>\n",
       "      <td>0</td>\n",
       "    </tr>\n",
       "    <tr>\n",
       "      <th>...</th>\n",
       "      <td>...</td>\n",
       "      <td>...</td>\n",
       "      <td>...</td>\n",
       "      <td>...</td>\n",
       "      <td>...</td>\n",
       "      <td>...</td>\n",
       "      <td>...</td>\n",
       "      <td>...</td>\n",
       "      <td>...</td>\n",
       "      <td>...</td>\n",
       "      <td>...</td>\n",
       "      <td>...</td>\n",
       "      <td>...</td>\n",
       "      <td>...</td>\n",
       "      <td>...</td>\n",
       "      <td>...</td>\n",
       "      <td>...</td>\n",
       "      <td>...</td>\n",
       "      <td>...</td>\n",
       "      <td>...</td>\n",
       "      <td>...</td>\n",
       "    </tr>\n",
       "    <tr>\n",
       "      <th>8755</th>\n",
       "      <td>2021-03-31 19:00:00</td>\n",
       "      <td>-0.286133</td>\n",
       "      <td>31.0</td>\n",
       "      <td>39.0</td>\n",
       "      <td>87</td>\n",
       "      <td>0.244660</td>\n",
       "      <td>0.162714</td>\n",
       "      <td>83.797778</td>\n",
       "      <td>0.270701</td>\n",
       "      <td>0.589404</td>\n",
       "      <td>...</td>\n",
       "      <td>0</td>\n",
       "      <td>0</td>\n",
       "      <td>0</td>\n",
       "      <td>0</td>\n",
       "      <td>0</td>\n",
       "      <td>1</td>\n",
       "      <td>0</td>\n",
       "      <td>0</td>\n",
       "      <td>0</td>\n",
       "      <td>0</td>\n",
       "    </tr>\n",
       "    <tr>\n",
       "      <th>8756</th>\n",
       "      <td>2021-03-31 20:00:00</td>\n",
       "      <td>-0.322868</td>\n",
       "      <td>10.0</td>\n",
       "      <td>30.0</td>\n",
       "      <td>67</td>\n",
       "      <td>0.188350</td>\n",
       "      <td>0.139382</td>\n",
       "      <td>71.781667</td>\n",
       "      <td>0.264331</td>\n",
       "      <td>0.592715</td>\n",
       "      <td>...</td>\n",
       "      <td>0</td>\n",
       "      <td>0</td>\n",
       "      <td>0</td>\n",
       "      <td>0</td>\n",
       "      <td>0</td>\n",
       "      <td>0</td>\n",
       "      <td>1</td>\n",
       "      <td>0</td>\n",
       "      <td>0</td>\n",
       "      <td>0</td>\n",
       "    </tr>\n",
       "    <tr>\n",
       "      <th>8757</th>\n",
       "      <td>2021-03-31 21:00:00</td>\n",
       "      <td>-0.353229</td>\n",
       "      <td>3.0</td>\n",
       "      <td>41.0</td>\n",
       "      <td>29</td>\n",
       "      <td>0.135922</td>\n",
       "      <td>0.076705</td>\n",
       "      <td>39.503056</td>\n",
       "      <td>0.264331</td>\n",
       "      <td>0.569536</td>\n",
       "      <td>...</td>\n",
       "      <td>0</td>\n",
       "      <td>0</td>\n",
       "      <td>0</td>\n",
       "      <td>0</td>\n",
       "      <td>0</td>\n",
       "      <td>0</td>\n",
       "      <td>0</td>\n",
       "      <td>1</td>\n",
       "      <td>0</td>\n",
       "      <td>0</td>\n",
       "    </tr>\n",
       "    <tr>\n",
       "      <th>8758</th>\n",
       "      <td>2021-03-31 22:00:00</td>\n",
       "      <td>-0.356271</td>\n",
       "      <td>2.0</td>\n",
       "      <td>22.0</td>\n",
       "      <td>9</td>\n",
       "      <td>0.060194</td>\n",
       "      <td>0.025547</td>\n",
       "      <td>13.156667</td>\n",
       "      <td>0.283439</td>\n",
       "      <td>0.566225</td>\n",
       "      <td>...</td>\n",
       "      <td>0</td>\n",
       "      <td>0</td>\n",
       "      <td>0</td>\n",
       "      <td>0</td>\n",
       "      <td>0</td>\n",
       "      <td>0</td>\n",
       "      <td>0</td>\n",
       "      <td>0</td>\n",
       "      <td>1</td>\n",
       "      <td>0</td>\n",
       "    </tr>\n",
       "    <tr>\n",
       "      <th>8759</th>\n",
       "      <td>2021-03-31 23:00:00</td>\n",
       "      <td>-0.469281</td>\n",
       "      <td>0.0</td>\n",
       "      <td>9.0</td>\n",
       "      <td>0</td>\n",
       "      <td>0.017476</td>\n",
       "      <td>0.003545</td>\n",
       "      <td>1.825556</td>\n",
       "      <td>0.273885</td>\n",
       "      <td>0.562914</td>\n",
       "      <td>...</td>\n",
       "      <td>0</td>\n",
       "      <td>0</td>\n",
       "      <td>0</td>\n",
       "      <td>0</td>\n",
       "      <td>0</td>\n",
       "      <td>0</td>\n",
       "      <td>0</td>\n",
       "      <td>0</td>\n",
       "      <td>0</td>\n",
       "      <td>1</td>\n",
       "    </tr>\n",
       "  </tbody>\n",
       "</table>\n",
       "<p>8760 rows × 43 columns</p>\n",
       "</div>"
      ],
      "text/plain": [
       "                       時間    停留時間(秒)  進場數量  出場數量  時段停車數       週轉率       使用率  \\\n",
       "0     2020-04-01 00:00:00  40.970907   2.0   0.0      2  0.003883  0.002330   \n",
       "1     2020-04-01 01:00:00  -0.469281   0.0   0.0      2  0.003883  0.003883   \n",
       "2     2020-04-01 02:00:00  -0.469281   0.0   0.0      2  0.003883  0.003883   \n",
       "3     2020-04-01 03:00:00  -0.469281   0.0   0.0      2  0.003883  0.003883   \n",
       "4     2020-04-01 04:00:00  -0.469281   0.0   0.0      2  0.003883  0.003883   \n",
       "...                   ...        ...   ...   ...    ...       ...       ...   \n",
       "8755  2021-03-31 19:00:00  -0.286133  31.0  39.0     87  0.244660  0.162714   \n",
       "8756  2021-03-31 20:00:00  -0.322868  10.0  30.0     67  0.188350  0.139382   \n",
       "8757  2021-03-31 21:00:00  -0.353229   3.0  41.0     29  0.135922  0.076705   \n",
       "8758  2021-03-31 22:00:00  -0.356271   2.0  22.0      9  0.060194  0.025547   \n",
       "8759  2021-03-31 23:00:00  -0.469281   0.0   9.0      0  0.017476  0.003545   \n",
       "\n",
       "           停車延時      測站氣壓        氣溫  ...  14:00:00  15:00:00  16:00:00  \\\n",
       "0      1.200000  0.649682  0.327815  ...         0         0         0   \n",
       "1      2.000000  0.429936  0.430464  ...         0         0         0   \n",
       "2      2.000000  0.449045  0.407285  ...         0         0         0   \n",
       "3      2.000000  0.452229  0.384106  ...         0         0         0   \n",
       "4      2.000000  0.477707  0.377483  ...         0         0         0   \n",
       "...         ...       ...       ...  ...       ...       ...       ...   \n",
       "8755  83.797778  0.270701  0.589404  ...         0         0         0   \n",
       "8756  71.781667  0.264331  0.592715  ...         0         0         0   \n",
       "8757  39.503056  0.264331  0.569536  ...         0         0         0   \n",
       "8758  13.156667  0.283439  0.566225  ...         0         0         0   \n",
       "8759   1.825556  0.273885  0.562914  ...         0         0         0   \n",
       "\n",
       "      17:00:00  18:00:00  19:00:00  20:00:00  21:00:00  22:00:00  23:00:00  \n",
       "0            0         0         0         0         0         0         0  \n",
       "1            0         0         0         0         0         0         0  \n",
       "2            0         0         0         0         0         0         0  \n",
       "3            0         0         0         0         0         0         0  \n",
       "4            0         0         0         0         0         0         0  \n",
       "...        ...       ...       ...       ...       ...       ...       ...  \n",
       "8755         0         0         1         0         0         0         0  \n",
       "8756         0         0         0         1         0         0         0  \n",
       "8757         0         0         0         0         1         0         0  \n",
       "8758         0         0         0         0         0         1         0  \n",
       "8759         0         0         0         0         0         0         1  \n",
       "\n",
       "[8760 rows x 43 columns]"
      ]
     },
     "execution_count": 107,
     "metadata": {},
     "output_type": "execute_result"
    }
   ],
   "source": [
    "Da_all"
   ]
  },
  {
   "cell_type": "markdown",
   "metadata": {},
   "source": [
    "# delete hashtag when executing LSTM (df_val)"
   ]
  },
  {
   "cell_type": "code",
   "execution_count": 17,
   "metadata": {},
   "outputs": [],
   "source": [
    "df_train = Da_all[Da_all['時間']<'2021-01-01 00:00:00'].reset_index()\n",
    "#df_val =  Da_all[(Da_all['時間']>='2021-01-01 00:00:00') & (Da_all['時間']<'2021-02-01 00:00:00')].reset_index()\n",
    "df_test = Da_all[(Da_all['時間']>='2021-01-01 00:00:00') & (Da_all['時間']<'2021-04-01 00:00:00')].reset_index()\n"
   ]
  },
  {
   "cell_type": "code",
   "execution_count": 18,
   "metadata": {},
   "outputs": [],
   "source": [
    "df_train=df_train.drop(labels=['時間'],axis='columns')\n",
    "#df_val = df_val.drop(labels=['時間'],axis='columns')\n",
    "df_test = df_test.drop(labels=['時間'],axis='columns')"
   ]
  },
  {
   "cell_type": "code",
   "execution_count": 19,
   "metadata": {},
   "outputs": [],
   "source": [
    "df_train['rank'] = df_train[\"index\"].rank().astype(int)\n",
    "#df_val['rank'] = df_val[\"index\"].rank().astype(int)\n",
    "df_test['rank'] = df_test[\"index\"].rank().astype(int)"
   ]
  },
  {
   "cell_type": "code",
   "execution_count": 20,
   "metadata": {},
   "outputs": [],
   "source": [
    "df_train=df_train.drop(labels=['index'],axis='columns')\n",
    "#df_val = df_val.drop(labels=['index'],axis='columns')\n",
    "df_test = df_test.drop(labels=['index'],axis='columns')"
   ]
  },
  {
   "cell_type": "code",
   "execution_count": 21,
   "metadata": {},
   "outputs": [],
   "source": [
    "X_train = df_train.iloc[:,:44]\n",
    "y_train =df_train.iloc[:,3]"
   ]
  },
  {
   "cell_type": "code",
   "execution_count": 22,
   "metadata": {},
   "outputs": [],
   "source": [
    "X_test = df_test.iloc[:,:44]"
   ]
  },
  {
   "cell_type": "code",
   "execution_count": 23,
   "metadata": {},
   "outputs": [],
   "source": [
    "y_test =df_test.iloc[:,3]"
   ]
  },
  {
   "cell_type": "code",
   "execution_count": 24,
   "metadata": {},
   "outputs": [],
   "source": [
    "X_train=X_train[['停留時間(秒)',  '週轉率', '使用率', '測站氣壓', '氣溫',\n",
    "       '相對溼度', '降水量', 'Friday', 'Monday', 'Saturday', 'Sunday',\n",
    "       'Thursday', 'Tuesday', 'Wednesday', '00:00:00', '01:00:00', '02:00:00',\n",
    "       '03:00:00', '04:00:00', '05:00:00', '06:00:00', '07:00:00', '08:00:00',\n",
    "       '09:00:00', '10:00:00', '11:00:00', '12:00:00', '13:00:00', '14:00:00',\n",
    "       '15:00:00', '16:00:00', '17:00:00', '18:00:00', '19:00:00', '20:00:00',\n",
    "       '21:00:00', '22:00:00', '23:00:00']]"
   ]
  },
  {
   "cell_type": "code",
   "execution_count": 25,
   "metadata": {},
   "outputs": [],
   "source": [
    "X_test=X_test[['停留時間(秒)',  '週轉率', '使用率', '測站氣壓', '氣溫',\n",
    "       '相對溼度', '降水量', 'Friday', 'Monday', 'Saturday', 'Sunday',\n",
    "       'Thursday', 'Tuesday', 'Wednesday', '00:00:00', '01:00:00', '02:00:00',\n",
    "       '03:00:00', '04:00:00', '05:00:00', '06:00:00', '07:00:00', '08:00:00',\n",
    "       '09:00:00', '10:00:00', '11:00:00', '12:00:00', '13:00:00', '14:00:00',\n",
    "       '15:00:00', '16:00:00', '17:00:00', '18:00:00', '19:00:00', '20:00:00',\n",
    "       '21:00:00', '22:00:00', '23:00:00']]"
   ]
  },
  {
   "cell_type": "code",
   "execution_count": 26,
   "metadata": {
    "scrolled": true
   },
   "outputs": [],
   "source": [
    "#X_train = X_train.values\n",
    "#y_train = y_train.values\n",
    "#X_test = X_test.values\n",
    "#y_test =  y_test.values"
   ]
  },
  {
   "cell_type": "markdown",
   "metadata": {},
   "source": [
    "# XGBoost"
   ]
  },
  {
   "cell_type": "code",
   "execution_count": 67,
   "metadata": {
    "scrolled": true
   },
   "outputs": [
    {
     "name": "stdout",
     "output_type": "stream",
     "text": [
      "MSE:11.241\n",
      "MAE:2.183\n",
      "MAPE: 3.5085872241912455\n"
     ]
    }
   ],
   "source": [
    "\n",
    "#xgb = XGBRegressor(n_estimators=500, learning_rate=0.05, min_child_weight=5, max_depth=4)\n",
    "xgb = XGBRegressor(n_estimators=209, learning_rate=0.1,min_child_weight=5, max_depth=4 )\n",
    "model = xgb.fit(X_train,y_train)\n",
    "y_pred = xgb.predict(X_test)\n",
    "\n",
    "\n",
    "print('MSE:%.3f' %mean_squared_error(y_test, y_pred))\n",
    "#print('R^2:%.3f' %r2_score(y_test, y_pred))\n",
    "print('MAE:%.3f' %mean_absolute_error(y_test, y_pred))\n",
    "y_test.index = range(len(y_test))\n",
    "d = pd.concat([y_test, pd.DataFrame(y_pred, columns=['預測停車數量'])], axis = 1)\n",
    "d['差異'] = d['預測停車數量'] - d['時段停車數']\n",
    "d2 = d[d['時段停車數']!=0]\n",
    "print('MAPE:',mape(np.array(d2['時段停車數']), np.array(d2['預測停車數量'])))\n"
   ]
  },
  {
   "cell_type": "code",
   "execution_count": 71,
   "metadata": {
    "scrolled": true
   },
   "outputs": [
    {
     "name": "stdout",
     "output_type": "stream",
     "text": [
      "[9.5198612e-04 4.7772275e-03 8.4090954e-01 4.3895151e-04 3.1370667e-04\n",
      " 4.0354597e-04 3.7636698e-04 5.4913759e-04 5.2205467e-04 6.1156676e-04\n",
      " 5.1681401e-04 4.4873057e-04 6.3059904e-04 4.6840197e-04 0.0000000e+00\n",
      " 0.0000000e+00 0.0000000e+00 0.0000000e+00 0.0000000e+00 0.0000000e+00\n",
      " 1.0981441e-04 8.0644116e-03 2.4682675e-02 1.7098689e-02 8.7734424e-03\n",
      " 9.1760955e-04 1.4942617e-03 4.5221429e-03 3.6896723e-03 1.9199925e-03\n",
      " 8.1443619e-03 8.4614949e-03 2.9253040e-04 5.2766415e-04 1.5627269e-02\n",
      " 4.1854940e-02 1.7181663e-03 1.8229052e-04]\n"
     ]
    }
   ],
   "source": [
    "\n",
    "# feature importance\n",
    "print(xgb.feature_importances_)\n",
    "# plot feature importance\n",
    "pyplot.rcParams['font.sans-serif'] = ['Arial Unicode MS']\n"
   ]
  },
  {
   "cell_type": "code",
   "execution_count": 106,
   "metadata": {},
   "outputs": [
    {
     "data": {
      "image/png": "[encoded data removed]",
      "text/plain": [
       "<Figure size 432x288 with 1 Axes>"
      ]
     },
     "metadata": {
      "needs_background": "light"
     },
     "output_type": "display_data"
    }
   ],
   "source": [
    "\n",
    "fig=plot_importance(xgb,\n",
    "                height=0.8,\n",
    "                max_num_features=6,).figure\n",
    "pyplot.title('大安高工 Feature importance')\n",
    "pyplot.tight_layout()\n",
    "fig.savefig('大安高工.png',dpi=200)"
   ]
  },
  {
   "cell_type": "code",
   "execution_count": 57,
   "metadata": {},
   "outputs": [
    {
     "data": {
      "text/plain": [
       "{'使用率': 688,\n",
       " '21:00:00': 31,\n",
       " '週轉率': 461,\n",
       " '08:00:00': 45,\n",
       " '09:00:00': 75,\n",
       " '17:00:00': 56,\n",
       " '07:00:00': 25,\n",
       " '20:00:00': 45,\n",
       " '10:00:00': 58,\n",
       " '16:00:00': 46,\n",
       " '停留時間(秒)': 237,\n",
       " '22:00:00': 25,\n",
       " 'Tuesday': 18,\n",
       " '13:00:00': 22,\n",
       " '測站氣壓': 218,\n",
       " '氣溫': 161,\n",
       " 'Friday': 30,\n",
       " '相對溼度': 127,\n",
       " '12:00:00': 30,\n",
       " '15:00:00': 30,\n",
       " '14:00:00': 11,\n",
       " '11:00:00': 25,\n",
       " 'Sunday': 36,\n",
       " '降水量': 32,\n",
       " 'Saturday': 31,\n",
       " 'Monday': 20,\n",
       " 'Thursday': 15,\n",
       " '23:00:00': 10,\n",
       " '18:00:00': 26,\n",
       " '19:00:00': 17,\n",
       " 'Wednesday': 13,\n",
       " '06:00:00': 3}"
      ]
     },
     "execution_count": 57,
     "metadata": {},
     "output_type": "execute_result"
    }
   ],
   "source": [
    "xgb.get_booster().get_score(importance_type='weight')\n"
   ]
  },
  {
   "cell_type": "code",
   "execution_count": 602,
   "metadata": {},
   "outputs": [],
   "source": [
    "Da_data2=Da_data[(Da_data['時間']>='2021-01-01 00:00:00') & (Da_data['時間']<'2021-04-01 00:00:00')].reset_index()"
   ]
  },
  {
   "cell_type": "code",
   "execution_count": 603,
   "metadata": {},
   "outputs": [],
   "source": [
    "Da_all = pd.concat([Da_data2,d[['預測停車數量']]],axis=1)"
   ]
  },
  {
   "cell_type": "code",
   "execution_count": 605,
   "metadata": {},
   "outputs": [],
   "source": [
    "Da_all = Da_all[['時間','預測停車數量']]\n",
    "Da_all.to_csv('/Users/julia/Desktop/海量研究室/停車場競賽/預測停車場數/大安預測停車數_test.csv')"
   ]
  },
  {
   "cell_type": "markdown",
   "metadata": {},
   "source": [
    "# LSTM"
   ]
  },
  {
   "cell_type": "code",
   "execution_count": 21,
   "metadata": {},
   "outputs": [],
   "source": [
    "def process_data(df_train,df_val,df_test,pastDay,futureDay):   \n",
    "    feature = ['停留時間(秒)', '週轉率', '使用率', '停車延時', '氣溫',\n",
    "       '相對溼度', '風速', '降水量', 'Friday', 'Monday', 'Saturday', 'Sunday',\n",
    "       'Thursday', 'Tuesday', 'Wednesday', '00:00:00', '01:00:00', '02:00:00',\n",
    "       '03:00:00', '04:00:00', '05:00:00', '06:00:00', '07:00:00', '08:00:00',\n",
    "       '09:00:00', '10:00:00', '11:00:00', '12:00:00', '13:00:00', '14:00:00',\n",
    "       '15:00:00', '16:00:00', '17:00:00', '18:00:00', '19:00:00', '20:00:00',\n",
    "       '21:00:00', '22:00:00', '23:00:00']\n",
    "    target = '時段停車數'\n",
    "    \n",
    "    train_feature = np.array(df_train[feature])\n",
    "    train_flow = np.array(df_train[target])\n",
    "    train_rank = np.array(df_train['rank'])\n",
    "    \n",
    "    val_feature = np.array(df_val[feature])\n",
    "    val_flow = np.array(df_val[target])\n",
    "    val_rank = np.array(df_val['rank'])\n",
    "    \n",
    "    test_feature = np.array(df_test[feature])\n",
    "    test_flow = np.array(df_test[target])\n",
    "    test_rank = np.array(df_test['rank'])\n",
    "    \n",
    "\n",
    "    X_train, y_train, X_val, y_val, X_test, y_test = [], [], [], [], [], []\n",
    "\n",
    "    for i in tqdm_notebook(range(pastDay, len(train_feature))):\n",
    "        if train_rank[i] > pastDay:\n",
    "            X_train.append(train_feature[i - pastDay: i])\n",
    "            y_train.append(train_flow[i:i+futureDay])\n",
    "        else:\n",
    "            pass\n",
    "    \n",
    "    for i in tqdm_notebook(range(pastDay, len(val_feature))):\n",
    "        if val_rank[i] > pastDay:\n",
    "            X_val.append(val_feature[i - pastDay: i])\n",
    "            y_val.append(val_flow[i:i+futureDay])\n",
    "        else:\n",
    "            pass\n",
    "\n",
    "    for i in tqdm_notebook(range(pastDay, len(test_feature))):\n",
    "        if test_rank[i] > pastDay:\n",
    "            X_test.append(test_feature[i - pastDay: i])\n",
    "            y_test.append(test_flow[i:i+futureDay])\n",
    "        else:\n",
    "            pass\n",
    "\n",
    "    X_train = np.array(X_train)\n",
    "    y_train = np.array(y_train)\n",
    "    X_val = np.array(X_val)\n",
    "    y_val = np.array(y_val)\n",
    "    X_test = np.array(X_test)\n",
    "    y_test = np.array(y_test)\n",
    "\n",
    "    print(\"X_train_shape:\",X_train.shape)\n",
    "    print(\"y_train_shape:\",y_train.shape)\n",
    "    print(\"X_val_shape:\",X_val.shape)\n",
    "    print(\"y_val_shape:\",y_val.shape)\n",
    "    print(\"X_test:\",X_test.shape)\n",
    "    print(\"y_test:\",y_test.shape)\n",
    "\n",
    "    return X_train, y_train, X_val, y_val,  X_test, y_test #, random_index"
   ]
  },
  {
   "cell_type": "code",
   "execution_count": 22,
   "metadata": {},
   "outputs": [],
   "source": [
    "pastTime = 2\n",
    "futureTime = 1"
   ]
  },
  {
   "cell_type": "code",
   "execution_count": 23,
   "metadata": {
    "scrolled": false
   },
   "outputs": [
    {
     "name": "stderr",
     "output_type": "stream",
     "text": [
      "<ipython-input-21-39f6e0dd66da>:26: TqdmDeprecationWarning: This function will be removed in tqdm==5.0.0\n",
      "Please use `tqdm.notebook.tqdm` instead of `tqdm.tqdm_notebook`\n",
      "  for i in tqdm_notebook(range(pastDay, len(train_feature))):\n"
     ]
    },
    {
     "data": {
      "application/vnd.jupyter.widget-view+json": {
       "model_id": "5d56d0b7208642cfaaace9a5c6c0b53e",
       "version_major": 2,
       "version_minor": 0
      },
      "text/plain": [
       "  0%|          | 0/6598 [00:00<?, ?it/s]"
      ]
     },
     "metadata": {},
     "output_type": "display_data"
    },
    {
     "name": "stderr",
     "output_type": "stream",
     "text": [
      "<ipython-input-21-39f6e0dd66da>:33: TqdmDeprecationWarning: This function will be removed in tqdm==5.0.0\n",
      "Please use `tqdm.notebook.tqdm` instead of `tqdm.tqdm_notebook`\n",
      "  for i in tqdm_notebook(range(pastDay, len(val_feature))):\n"
     ]
    },
    {
     "data": {
      "application/vnd.jupyter.widget-view+json": {
       "model_id": "ff6ae759bf6b4c01848023374b76ad9f",
       "version_major": 2,
       "version_minor": 0
      },
      "text/plain": [
       "  0%|          | 0/742 [00:00<?, ?it/s]"
      ]
     },
     "metadata": {},
     "output_type": "display_data"
    },
    {
     "name": "stderr",
     "output_type": "stream",
     "text": [
      "<ipython-input-21-39f6e0dd66da>:40: TqdmDeprecationWarning: This function will be removed in tqdm==5.0.0\n",
      "Please use `tqdm.notebook.tqdm` instead of `tqdm.tqdm_notebook`\n",
      "  for i in tqdm_notebook(range(pastDay, len(test_feature))):\n"
     ]
    },
    {
     "data": {
      "application/vnd.jupyter.widget-view+json": {
       "model_id": "28bf9e6670c94471b27df46abc8e7317",
       "version_major": 2,
       "version_minor": 0
      },
      "text/plain": [
       "  0%|          | 0/1414 [00:00<?, ?it/s]"
      ]
     },
     "metadata": {},
     "output_type": "display_data"
    },
    {
     "name": "stdout",
     "output_type": "stream",
     "text": [
      "X_train_shape: (6598, 2, 39)\n",
      "y_train_shape: (6598, 1)\n",
      "X_val_shape: (742, 2, 39)\n",
      "y_val_shape: (742, 1)\n",
      "X_test: (1414, 2, 39)\n",
      "y_test: (1414, 1)\n"
     ]
    }
   ],
   "source": [
    "X_train, y_train, X_val, y_val, X_test, y_test = process_data(df_train,df_val, df_test,pastTime ,futureTime)"
   ]
  },
  {
   "cell_type": "code",
   "execution_count": 39,
   "metadata": {},
   "outputs": [
    {
     "name": "stderr",
     "output_type": "stream",
     "text": [
      "/Users/julia/opt/anaconda3/lib/python3.8/site-packages/tensorflow/python/keras/optimizer_v2/optimizer_v2.py:374: UserWarning: The `lr` argument is deprecated, use `learning_rate` instead.\n",
      "  warnings.warn(\n"
     ]
    },
    {
     "name": "stdout",
     "output_type": "stream",
     "text": [
      "Model: \"sequential_3\"\n",
      "_________________________________________________________________\n",
      "Layer (type)                 Output Shape              Param #   \n",
      "=================================================================\n",
      "lstm_2 (LSTM)                (None, 2, 20)             4800      \n",
      "_________________________________________________________________\n",
      "dropout_2 (Dropout)          (None, 2, 20)             0         \n",
      "_________________________________________________________________\n",
      "lstm_3 (LSTM)                (None, 16)                2368      \n",
      "_________________________________________________________________\n",
      "dropout_3 (Dropout)          (None, 16)                0         \n",
      "_________________________________________________________________\n",
      "dense_1 (Dense)              (None, 1)                 17        \n",
      "=================================================================\n",
      "Total params: 7,185\n",
      "Trainable params: 7,185\n",
      "Non-trainable params: 0\n",
      "_________________________________________________________________\n",
      "None\n"
     ]
    }
   ],
   "source": [
    "model = tensorflow.keras.Sequential()\n",
    "def get_lstm(X_shape):\n",
    "    model = Sequential()\n",
    "    model.add(LSTM(20, activation='relu', input_shape=(X_train.shape[1], X_train.shape[2]),return_sequences=True))\n",
    "    model.add(Dropout(0.1))\n",
    "    \n",
    "    model.add(LSTM(16,activation='relu'))\n",
    "    model.add(Dropout(0.1))\n",
    "    \n",
    "    model.add(Dense(units = 1))\n",
    "    return model\n",
    "\n",
    "\n",
    "\n",
    "adam = Adam(lr=0.001, beta_1=0.9, beta_2=0.999, epsilon=None, decay=0.0, amsgrad=False)\n",
    "\n",
    "model = get_lstm(X_train.shape)\n",
    "model.compile(loss='mae', optimizer=adam)\n",
    "print(model.summary())"
   ]
  },
  {
   "cell_type": "code",
   "execution_count": 40,
   "metadata": {
    "scrolled": true
   },
   "outputs": [
    {
     "name": "stdout",
     "output_type": "stream",
     "text": [
      "Epoch 1/200\n",
      "330/330 [==============================] - 3s 3ms/step - loss: 32.4914 - val_loss: 15.0224\n",
      "Epoch 2/200\n",
      "330/330 [==============================] - 1s 2ms/step - loss: 13.2891 - val_loss: 9.0158\n",
      "Epoch 3/200\n",
      "330/330 [==============================] - 1s 2ms/step - loss: 10.6912 - val_loss: 9.1922\n",
      "Epoch 4/200\n",
      "330/330 [==============================] - 1s 3ms/step - loss: 10.3919 - val_loss: 7.1049\n",
      "Epoch 5/200\n",
      "330/330 [==============================] - 1s 2ms/step - loss: 9.6406 - val_loss: 7.1654\n",
      "Epoch 6/200\n",
      "330/330 [==============================] - 1s 2ms/step - loss: 9.2650 - val_loss: 7.5027\n",
      "Epoch 7/200\n",
      "330/330 [==============================] - 1s 2ms/step - loss: 9.2408 - val_loss: 5.9380\n",
      "Epoch 8/200\n",
      "330/330 [==============================] - 1s 2ms/step - loss: 9.0128 - val_loss: 8.6359\n",
      "Epoch 9/200\n",
      "330/330 [==============================] - 1s 2ms/step - loss: 8.9435 - val_loss: 6.6698\n",
      "Epoch 10/200\n",
      "330/330 [==============================] - 1s 2ms/step - loss: 8.8012 - val_loss: 5.3435\n",
      "Epoch 11/200\n",
      "330/330 [==============================] - 1s 2ms/step - loss: 8.5408 - val_loss: 6.0257\n",
      "Epoch 12/200\n",
      "330/330 [==============================] - 1s 2ms/step - loss: 8.7892 - val_loss: 7.1100\n",
      "Epoch 13/200\n",
      "330/330 [==============================] - 1s 2ms/step - loss: 8.5380 - val_loss: 7.2749\n",
      "Epoch 14/200\n",
      "330/330 [==============================] - 1s 2ms/step - loss: 8.5427 - val_loss: 7.2175\n",
      "Epoch 15/200\n",
      "330/330 [==============================] - 1s 2ms/step - loss: 8.3771 - val_loss: 8.9258\n",
      "Epoch 16/200\n",
      "330/330 [==============================] - 1s 3ms/step - loss: 8.3209 - val_loss: 9.0947\n",
      "Epoch 17/200\n",
      "330/330 [==============================] - 1s 2ms/step - loss: 8.2805 - val_loss: 8.2715\n",
      "Epoch 18/200\n",
      "330/330 [==============================] - 1s 2ms/step - loss: 8.4472 - val_loss: 7.4902\n",
      "Epoch 19/200\n",
      "330/330 [==============================] - 1s 3ms/step - loss: 8.3202 - val_loss: 8.2772\n",
      "Epoch 20/200\n",
      "330/330 [==============================] - 1s 2ms/step - loss: 8.3695 - val_loss: 6.6598\n",
      "Epoch 21/200\n",
      "330/330 [==============================] - 1s 2ms/step - loss: 8.1447 - val_loss: 7.4368\n",
      "Epoch 22/200\n",
      "330/330 [==============================] - 1s 2ms/step - loss: 8.1574 - val_loss: 8.8828\n",
      "Epoch 23/200\n",
      "330/330 [==============================] - 1s 2ms/step - loss: 8.0353 - val_loss: 6.2330\n",
      "Epoch 24/200\n",
      "330/330 [==============================] - 1s 2ms/step - loss: 8.0569 - val_loss: 7.2587\n",
      "Epoch 25/200\n",
      "330/330 [==============================] - 1s 2ms/step - loss: 8.0658 - val_loss: 8.5557\n",
      "Epoch 26/200\n",
      "330/330 [==============================] - 1s 2ms/step - loss: 7.9173 - val_loss: 6.5445\n",
      "Epoch 27/200\n",
      "330/330 [==============================] - 1s 2ms/step - loss: 7.9960 - val_loss: 8.6502\n",
      "Epoch 28/200\n",
      "330/330 [==============================] - 1s 2ms/step - loss: 7.9921 - val_loss: 9.0534\n",
      "Epoch 29/200\n",
      "330/330 [==============================] - 1s 2ms/step - loss: 7.8889 - val_loss: 6.4231\n",
      "Epoch 30/200\n",
      "330/330 [==============================] - 1s 3ms/step - loss: 7.6785 - val_loss: 8.4586\n",
      "Epoch 31/200\n",
      "330/330 [==============================] - 1s 2ms/step - loss: 7.8894 - val_loss: 9.1195\n",
      "Epoch 32/200\n",
      "330/330 [==============================] - 1s 2ms/step - loss: 7.6306 - val_loss: 7.2235\n",
      "Epoch 33/200\n",
      "330/330 [==============================] - 1s 3ms/step - loss: 7.7675 - val_loss: 5.1192\n",
      "Epoch 34/200\n",
      "330/330 [==============================] - 1s 2ms/step - loss: 7.6086 - val_loss: 6.0111\n",
      "Epoch 35/200\n",
      "330/330 [==============================] - 1s 2ms/step - loss: 7.6129 - val_loss: 7.1821\n",
      "Epoch 36/200\n",
      "330/330 [==============================] - 1s 3ms/step - loss: 7.6420 - val_loss: 7.0583\n",
      "Epoch 37/200\n",
      "330/330 [==============================] - 1s 3ms/step - loss: 7.6999 - val_loss: 6.6063\n",
      "Epoch 38/200\n",
      "330/330 [==============================] - 1s 2ms/step - loss: 7.4950 - val_loss: 6.1504\n",
      "Epoch 39/200\n",
      "330/330 [==============================] - 1s 3ms/step - loss: 7.5950 - val_loss: 8.3434\n",
      "Epoch 40/200\n",
      "330/330 [==============================] - 1s 3ms/step - loss: 7.6950 - val_loss: 6.3224\n",
      "Epoch 41/200\n",
      "330/330 [==============================] - 1s 3ms/step - loss: 7.5011 - val_loss: 7.4806\n",
      "Epoch 42/200\n",
      "330/330 [==============================] - 1s 3ms/step - loss: 7.4162 - val_loss: 5.6507\n",
      "Epoch 43/200\n",
      "330/330 [==============================] - 1s 3ms/step - loss: 7.5630 - val_loss: 8.2851\n",
      "Epoch 44/200\n",
      "330/330 [==============================] - 1s 3ms/step - loss: 7.2561 - val_loss: 8.4436\n",
      "Epoch 45/200\n",
      "330/330 [==============================] - 1s 2ms/step - loss: 7.3739 - val_loss: 9.2785\n",
      "Epoch 46/200\n",
      "330/330 [==============================] - 1s 2ms/step - loss: 7.2022 - val_loss: 5.6650\n",
      "Epoch 47/200\n",
      "330/330 [==============================] - 1s 2ms/step - loss: 7.3780 - val_loss: 8.6883\n",
      "Epoch 48/200\n",
      "330/330 [==============================] - 1s 2ms/step - loss: 7.2110 - val_loss: 6.8526\n",
      "Epoch 49/200\n",
      "330/330 [==============================] - 1s 2ms/step - loss: 7.2674 - val_loss: 7.1256\n",
      "Epoch 50/200\n",
      "330/330 [==============================] - 1s 2ms/step - loss: 7.1355 - val_loss: 7.1381\n",
      "Epoch 51/200\n",
      "330/330 [==============================] - 1s 2ms/step - loss: 7.0635 - val_loss: 7.5780\n",
      "Epoch 52/200\n",
      "330/330 [==============================] - 1s 2ms/step - loss: 7.0644 - val_loss: 6.7664\n",
      "Epoch 53/200\n",
      "330/330 [==============================] - 1s 3ms/step - loss: 7.3029 - val_loss: 10.2499\n",
      "Epoch 54/200\n",
      "330/330 [==============================] - 1s 2ms/step - loss: 7.0867 - val_loss: 5.3069\n",
      "Epoch 55/200\n",
      "330/330 [==============================] - 1s 2ms/step - loss: 7.0605 - val_loss: 7.9262\n",
      "Epoch 56/200\n",
      "330/330 [==============================] - 1s 2ms/step - loss: 7.0514 - val_loss: 6.6637\n",
      "Epoch 57/200\n",
      "330/330 [==============================] - 1s 2ms/step - loss: 7.0467 - val_loss: 6.3702\n",
      "Epoch 58/200\n",
      "330/330 [==============================] - 1s 2ms/step - loss: 7.0618 - val_loss: 9.5109\n",
      "Epoch 59/200\n",
      "330/330 [==============================] - 1s 2ms/step - loss: 6.9595 - val_loss: 5.9834\n",
      "Epoch 60/200\n",
      "330/330 [==============================] - 1s 2ms/step - loss: 7.0566 - val_loss: 6.2504\n",
      "Epoch 61/200\n",
      "330/330 [==============================] - 1s 2ms/step - loss: 7.0148 - val_loss: 6.5879\n",
      "Epoch 62/200\n",
      "330/330 [==============================] - 1s 2ms/step - loss: 7.0914 - val_loss: 6.8272\n",
      "Epoch 63/200\n",
      "330/330 [==============================] - 1s 2ms/step - loss: 7.0359 - val_loss: 8.2992\n",
      "Epoch 64/200\n",
      "330/330 [==============================] - 1s 2ms/step - loss: 6.9272 - val_loss: 7.8121\n",
      "Epoch 65/200\n",
      "330/330 [==============================] - 1s 2ms/step - loss: 7.1051 - val_loss: 7.5335\n",
      "Epoch 66/200\n",
      "330/330 [==============================] - 1s 2ms/step - loss: 6.9145 - val_loss: 6.7645\n",
      "Epoch 67/200\n",
      "330/330 [==============================] - 1s 2ms/step - loss: 7.0508 - val_loss: 8.3920\n",
      "Epoch 68/200\n",
      "330/330 [==============================] - 1s 2ms/step - loss: 6.9481 - val_loss: 8.8475\n",
      "Epoch 69/200\n",
      "330/330 [==============================] - 1s 2ms/step - loss: 6.9812 - val_loss: 7.5621\n",
      "Epoch 70/200\n",
      "330/330 [==============================] - 1s 2ms/step - loss: 6.8733 - val_loss: 7.8267\n",
      "Epoch 71/200\n",
      "330/330 [==============================] - 1s 2ms/step - loss: 7.0072 - val_loss: 9.0043\n",
      "Epoch 72/200\n",
      "330/330 [==============================] - 1s 2ms/step - loss: 6.8963 - val_loss: 7.3063\n",
      "Epoch 73/200\n",
      "330/330 [==============================] - 1s 2ms/step - loss: 6.9196 - val_loss: 7.5204\n",
      "Epoch 74/200\n",
      "330/330 [==============================] - 1s 2ms/step - loss: 7.0764 - val_loss: 7.4429\n",
      "Epoch 75/200\n",
      "330/330 [==============================] - 1s 2ms/step - loss: 6.9461 - val_loss: 8.0503\n",
      "Epoch 76/200\n",
      "330/330 [==============================] - 1s 2ms/step - loss: 6.9106 - val_loss: 7.8350\n",
      "Epoch 77/200\n",
      "330/330 [==============================] - 1s 2ms/step - loss: 6.8460 - val_loss: 9.3076\n",
      "Epoch 78/200\n",
      "330/330 [==============================] - 1s 2ms/step - loss: 6.8684 - val_loss: 7.6384\n",
      "Epoch 79/200\n",
      "330/330 [==============================] - 1s 2ms/step - loss: 6.8428 - val_loss: 8.8086\n",
      "Epoch 80/200\n",
      "330/330 [==============================] - 1s 2ms/step - loss: 6.9450 - val_loss: 7.2978\n",
      "Epoch 81/200\n",
      "330/330 [==============================] - 1s 2ms/step - loss: 6.9063 - val_loss: 7.4124\n",
      "Epoch 82/200\n",
      "330/330 [==============================] - 1s 2ms/step - loss: 6.9119 - val_loss: 6.4345\n",
      "Epoch 83/200\n",
      "330/330 [==============================] - 1s 2ms/step - loss: 6.8558 - val_loss: 7.3153\n",
      "Epoch 84/200\n",
      "330/330 [==============================] - 1s 2ms/step - loss: 6.9040 - val_loss: 8.5297\n",
      "Epoch 85/200\n",
      "330/330 [==============================] - 1s 2ms/step - loss: 6.8565 - val_loss: 6.2443\n",
      "Epoch 86/200\n",
      "330/330 [==============================] - 1s 2ms/step - loss: 6.8376 - val_loss: 8.0899\n",
      "Epoch 87/200\n",
      "330/330 [==============================] - 1s 2ms/step - loss: 6.7805 - val_loss: 7.9571\n",
      "Epoch 88/200\n",
      "330/330 [==============================] - 1s 2ms/step - loss: 6.8764 - val_loss: 7.4014\n",
      "Epoch 89/200\n",
      "330/330 [==============================] - 1s 2ms/step - loss: 6.6604 - val_loss: 9.1426\n",
      "Epoch 90/200\n",
      "330/330 [==============================] - 1s 2ms/step - loss: 6.7450 - val_loss: 7.9787\n",
      "Epoch 91/200\n",
      "330/330 [==============================] - 1s 2ms/step - loss: 6.7750 - val_loss: 8.9273\n",
      "Epoch 92/200\n",
      "330/330 [==============================] - 1s 2ms/step - loss: 6.7314 - val_loss: 6.9713\n",
      "Epoch 93/200\n",
      "330/330 [==============================] - 1s 2ms/step - loss: 6.8749 - val_loss: 7.5661\n",
      "Epoch 94/200\n",
      "330/330 [==============================] - 1s 2ms/step - loss: 6.8716 - val_loss: 7.9118\n",
      "Epoch 95/200\n",
      "330/330 [==============================] - 1s 2ms/step - loss: 6.8012 - val_loss: 8.7739\n",
      "Epoch 96/200\n",
      "330/330 [==============================] - 1s 2ms/step - loss: 6.7212 - val_loss: 6.4965\n",
      "Epoch 97/200\n",
      "330/330 [==============================] - 1s 2ms/step - loss: 6.6765 - val_loss: 8.5920\n",
      "Epoch 98/200\n",
      "330/330 [==============================] - 1s 2ms/step - loss: 6.7128 - val_loss: 6.7389\n",
      "Epoch 99/200\n",
      "330/330 [==============================] - 1s 2ms/step - loss: 6.7427 - val_loss: 7.6559\n",
      "Epoch 100/200\n",
      "330/330 [==============================] - 1s 2ms/step - loss: 6.7808 - val_loss: 7.7458\n",
      "Epoch 101/200\n",
      "330/330 [==============================] - 1s 2ms/step - loss: 6.7175 - val_loss: 7.3631\n",
      "Epoch 102/200\n",
      "330/330 [==============================] - 1s 2ms/step - loss: 6.5370 - val_loss: 10.4838\n",
      "Epoch 103/200\n",
      "330/330 [==============================] - 1s 2ms/step - loss: 6.6949 - val_loss: 8.7847\n",
      "Epoch 104/200\n",
      "330/330 [==============================] - 1s 2ms/step - loss: 6.6592 - val_loss: 6.5932\n",
      "Epoch 105/200\n",
      "330/330 [==============================] - 1s 2ms/step - loss: 6.7099 - val_loss: 8.6971\n",
      "Epoch 106/200\n",
      "330/330 [==============================] - 1s 2ms/step - loss: 6.5972 - val_loss: 7.2508\n",
      "Epoch 107/200\n",
      "330/330 [==============================] - 1s 2ms/step - loss: 6.8111 - val_loss: 6.4294\n",
      "Epoch 108/200\n",
      "330/330 [==============================] - 1s 2ms/step - loss: 6.5265 - val_loss: 7.7260\n",
      "Epoch 109/200\n",
      "330/330 [==============================] - 1s 2ms/step - loss: 6.7030 - val_loss: 7.2966\n",
      "Epoch 110/200\n",
      "330/330 [==============================] - 1s 2ms/step - loss: 6.6167 - val_loss: 6.9540\n",
      "Epoch 111/200\n",
      "330/330 [==============================] - 1s 2ms/step - loss: 6.6232 - val_loss: 8.1663\n",
      "Epoch 112/200\n",
      "330/330 [==============================] - 1s 2ms/step - loss: 6.6818 - val_loss: 6.8182\n",
      "Epoch 113/200\n",
      "330/330 [==============================] - 1s 2ms/step - loss: 6.6330 - val_loss: 9.0598\n",
      "Epoch 114/200\n",
      "330/330 [==============================] - 1s 2ms/step - loss: 6.7488 - val_loss: 6.3159\n",
      "Epoch 115/200\n",
      "330/330 [==============================] - 1s 2ms/step - loss: 6.7414 - val_loss: 7.5071\n",
      "Epoch 116/200\n",
      "330/330 [==============================] - 1s 2ms/step - loss: 6.5058 - val_loss: 6.3669\n",
      "Epoch 117/200\n",
      "330/330 [==============================] - 1s 2ms/step - loss: 6.5699 - val_loss: 6.7373\n",
      "Epoch 118/200\n",
      "330/330 [==============================] - 1s 2ms/step - loss: 6.5957 - val_loss: 6.3987\n",
      "Epoch 119/200\n",
      "330/330 [==============================] - 1s 2ms/step - loss: 6.5349 - val_loss: 7.5100\n",
      "Epoch 120/200\n",
      "330/330 [==============================] - 1s 2ms/step - loss: 6.4518 - val_loss: 7.4669\n",
      "Epoch 121/200\n",
      "330/330 [==============================] - 1s 2ms/step - loss: 6.7089 - val_loss: 8.0416\n",
      "Epoch 122/200\n",
      "330/330 [==============================] - 1s 2ms/step - loss: 6.4677 - val_loss: 7.2935\n",
      "Epoch 123/200\n",
      "330/330 [==============================] - 1s 2ms/step - loss: 6.6056 - val_loss: 6.9578\n",
      "Epoch 124/200\n",
      "330/330 [==============================] - 1s 2ms/step - loss: 6.4934 - val_loss: 8.0000\n",
      "Epoch 125/200\n",
      "330/330 [==============================] - 1s 2ms/step - loss: 6.4276 - val_loss: 6.5810\n",
      "Epoch 126/200\n",
      "330/330 [==============================] - 1s 2ms/step - loss: 6.4472 - val_loss: 7.1436\n",
      "Epoch 127/200\n",
      "330/330 [==============================] - 1s 2ms/step - loss: 6.5829 - val_loss: 8.5088\n",
      "Epoch 128/200\n",
      "330/330 [==============================] - 1s 2ms/step - loss: 6.6105 - val_loss: 7.7703\n",
      "Epoch 129/200\n",
      "330/330 [==============================] - 1s 2ms/step - loss: 6.4342 - val_loss: 6.0473\n",
      "Epoch 130/200\n",
      "330/330 [==============================] - 1s 2ms/step - loss: 6.6327 - val_loss: 6.1033\n",
      "Epoch 131/200\n",
      "330/330 [==============================] - 1s 2ms/step - loss: 6.6475 - val_loss: 8.2039\n",
      "Epoch 132/200\n",
      "330/330 [==============================] - 1s 2ms/step - loss: 6.6167 - val_loss: 7.7848\n",
      "Epoch 133/200\n",
      "330/330 [==============================] - 1s 2ms/step - loss: 6.5163 - val_loss: 7.7429\n",
      "Epoch 134/200\n",
      "330/330 [==============================] - 1s 2ms/step - loss: 6.4994 - val_loss: 6.9803\n",
      "Epoch 135/200\n",
      "330/330 [==============================] - 1s 2ms/step - loss: 6.6072 - val_loss: 6.8588\n",
      "Epoch 136/200\n",
      "330/330 [==============================] - 1s 2ms/step - loss: 6.5129 - val_loss: 6.2404\n",
      "Epoch 137/200\n",
      "330/330 [==============================] - 1s 2ms/step - loss: 6.5259 - val_loss: 8.1891\n",
      "Epoch 138/200\n",
      "330/330 [==============================] - 1s 2ms/step - loss: 6.4611 - val_loss: 8.7949\n",
      "Epoch 139/200\n",
      "330/330 [==============================] - 1s 2ms/step - loss: 6.4111 - val_loss: 6.4445\n",
      "Epoch 140/200\n",
      "330/330 [==============================] - 1s 2ms/step - loss: 6.5036 - val_loss: 8.4244\n",
      "Epoch 141/200\n",
      "330/330 [==============================] - 1s 2ms/step - loss: 6.4490 - val_loss: 8.1592\n",
      "Epoch 142/200\n",
      "330/330 [==============================] - 1s 2ms/step - loss: 6.4226 - val_loss: 6.8025\n",
      "Epoch 143/200\n",
      "330/330 [==============================] - 1s 3ms/step - loss: 6.4707 - val_loss: 7.8717\n",
      "Epoch 144/200\n",
      "330/330 [==============================] - 1s 4ms/step - loss: 6.4898 - val_loss: 8.3108\n",
      "Epoch 145/200\n",
      "330/330 [==============================] - 1s 3ms/step - loss: 6.5529 - val_loss: 9.2422\n",
      "Epoch 146/200\n",
      "330/330 [==============================] - 1s 2ms/step - loss: 6.4042 - val_loss: 8.5871\n",
      "Epoch 147/200\n",
      "330/330 [==============================] - 1s 3ms/step - loss: 6.4468 - val_loss: 7.5340\n",
      "Epoch 148/200\n",
      "330/330 [==============================] - 1s 2ms/step - loss: 6.3717 - val_loss: 6.5120\n",
      "Epoch 149/200\n",
      "330/330 [==============================] - 1s 2ms/step - loss: 6.5197 - val_loss: 7.0520\n",
      "Epoch 150/200\n",
      "330/330 [==============================] - 1s 2ms/step - loss: 6.3613 - val_loss: 8.2556\n",
      "Epoch 151/200\n",
      "330/330 [==============================] - 1s 2ms/step - loss: 6.3786 - val_loss: 7.4078\n",
      "Epoch 152/200\n",
      "330/330 [==============================] - 1s 2ms/step - loss: 6.4213 - val_loss: 6.0218\n",
      "Epoch 153/200\n",
      "330/330 [==============================] - 1s 2ms/step - loss: 6.4892 - val_loss: 7.2682\n",
      "Epoch 154/200\n",
      "330/330 [==============================] - 1s 2ms/step - loss: 6.3797 - val_loss: 8.0382\n",
      "Epoch 155/200\n",
      "330/330 [==============================] - 1s 2ms/step - loss: 6.3500 - val_loss: 7.4941\n",
      "Epoch 156/200\n",
      "330/330 [==============================] - 1s 2ms/step - loss: 6.3588 - val_loss: 7.5564\n",
      "Epoch 157/200\n",
      "330/330 [==============================] - 1s 2ms/step - loss: 6.3890 - val_loss: 8.0012\n",
      "Epoch 158/200\n",
      "330/330 [==============================] - 1s 2ms/step - loss: 6.2504 - val_loss: 6.8219\n",
      "Epoch 159/200\n",
      "330/330 [==============================] - 1s 2ms/step - loss: 6.4416 - val_loss: 7.5772\n",
      "Epoch 160/200\n",
      "330/330 [==============================] - 1s 2ms/step - loss: 6.3143 - val_loss: 6.4024\n"
     ]
    },
    {
     "name": "stdout",
     "output_type": "stream",
     "text": [
      "Epoch 161/200\n",
      "330/330 [==============================] - 1s 2ms/step - loss: 6.4243 - val_loss: 5.6462\n",
      "Epoch 162/200\n",
      "330/330 [==============================] - 1s 2ms/step - loss: 6.2784 - val_loss: 6.7329\n",
      "Epoch 163/200\n",
      "330/330 [==============================] - 1s 2ms/step - loss: 6.2974 - val_loss: 9.7557\n",
      "Epoch 164/200\n",
      "330/330 [==============================] - 1s 2ms/step - loss: 6.3148 - val_loss: 9.5847\n",
      "Epoch 165/200\n",
      "330/330 [==============================] - 1s 3ms/step - loss: 6.3816 - val_loss: 9.4917\n",
      "Epoch 166/200\n",
      "330/330 [==============================] - 1s 2ms/step - loss: 6.2897 - val_loss: 7.4350\n",
      "Epoch 167/200\n",
      "330/330 [==============================] - 1s 2ms/step - loss: 6.2361 - val_loss: 7.6425\n",
      "Epoch 168/200\n",
      "330/330 [==============================] - 1s 2ms/step - loss: 6.3318 - val_loss: 6.5287\n",
      "Epoch 169/200\n",
      "330/330 [==============================] - 1s 2ms/step - loss: 6.3224 - val_loss: 7.3910\n",
      "Epoch 170/200\n",
      "330/330 [==============================] - 1s 2ms/step - loss: 6.3057 - val_loss: 7.2469\n",
      "Epoch 171/200\n",
      "330/330 [==============================] - 1s 2ms/step - loss: 6.3832 - val_loss: 5.7544\n",
      "Epoch 172/200\n",
      "330/330 [==============================] - 1s 3ms/step - loss: 6.2843 - val_loss: 8.0791\n",
      "Epoch 173/200\n",
      "330/330 [==============================] - 1s 3ms/step - loss: 6.3033 - val_loss: 5.9472\n",
      "Epoch 174/200\n",
      "330/330 [==============================] - 1s 3ms/step - loss: 6.3566 - val_loss: 7.0658\n",
      "Epoch 175/200\n",
      "330/330 [==============================] - 1s 3ms/step - loss: 6.3578 - val_loss: 6.6028\n",
      "Epoch 176/200\n",
      "330/330 [==============================] - 1s 3ms/step - loss: 6.3546 - val_loss: 7.9476\n",
      "Epoch 177/200\n",
      "330/330 [==============================] - 1s 3ms/step - loss: 6.2525 - val_loss: 7.4108\n",
      "Epoch 178/200\n",
      "330/330 [==============================] - 1s 2ms/step - loss: 6.2328 - val_loss: 7.1824\n",
      "Epoch 179/200\n",
      "330/330 [==============================] - 1s 2ms/step - loss: 6.2975 - val_loss: 6.8234\n",
      "Epoch 180/200\n",
      "330/330 [==============================] - 1s 2ms/step - loss: 6.4295 - val_loss: 8.0989\n",
      "Epoch 181/200\n",
      "330/330 [==============================] - 1s 2ms/step - loss: 6.2748 - val_loss: 7.2256\n",
      "Epoch 182/200\n",
      "330/330 [==============================] - 1s 2ms/step - loss: 6.0761 - val_loss: 7.4561\n",
      "Epoch 183/200\n",
      "330/330 [==============================] - 1s 2ms/step - loss: 6.2604 - val_loss: 7.1098\n",
      "Epoch 184/200\n",
      "330/330 [==============================] - 1s 3ms/step - loss: 6.2236 - val_loss: 6.5167\n",
      "Epoch 185/200\n",
      "330/330 [==============================] - 1s 2ms/step - loss: 6.2279 - val_loss: 6.7386\n",
      "Epoch 186/200\n",
      "330/330 [==============================] - 1s 2ms/step - loss: 6.2589 - val_loss: 6.4230\n",
      "Epoch 187/200\n",
      "330/330 [==============================] - 1s 2ms/step - loss: 6.2622 - val_loss: 6.9224\n",
      "Epoch 188/200\n",
      "330/330 [==============================] - 1s 2ms/step - loss: 6.2684 - val_loss: 6.6232\n",
      "Epoch 189/200\n",
      "330/330 [==============================] - 1s 2ms/step - loss: 6.2215 - val_loss: 6.1773\n",
      "Epoch 190/200\n",
      "330/330 [==============================] - 1s 2ms/step - loss: 6.1512 - val_loss: 6.7413\n",
      "Epoch 191/200\n",
      "330/330 [==============================] - 1s 2ms/step - loss: 6.2065 - val_loss: 5.4783\n",
      "Epoch 192/200\n",
      "330/330 [==============================] - 1s 2ms/step - loss: 6.2196 - val_loss: 6.6724\n",
      "Epoch 193/200\n",
      "330/330 [==============================] - 1s 2ms/step - loss: 6.1273 - val_loss: 8.5756\n",
      "Epoch 194/200\n",
      "330/330 [==============================] - 1s 2ms/step - loss: 6.2016 - val_loss: 7.7131\n",
      "Epoch 195/200\n",
      "330/330 [==============================] - 1s 2ms/step - loss: 6.0812 - val_loss: 6.9799\n",
      "Epoch 196/200\n",
      "330/330 [==============================] - 1s 2ms/step - loss: 6.1892 - val_loss: 6.5490\n",
      "Epoch 197/200\n",
      "330/330 [==============================] - 1s 2ms/step - loss: 6.0971 - val_loss: 7.1281\n",
      "Epoch 198/200\n",
      "330/330 [==============================] - 1s 2ms/step - loss: 5.9459 - val_loss: 6.6390\n",
      "Epoch 199/200\n",
      "330/330 [==============================] - 1s 2ms/step - loss: 6.0395 - val_loss: 6.4803\n",
      "Epoch 200/200\n",
      "330/330 [==============================] - 1s 2ms/step - loss: 5.9515 - val_loss: 6.8984\n",
      "Time used: 147.98705678500005\n"
     ]
    }
   ],
   "source": [
    "import time\n",
    "start = time.perf_counter() \n",
    "hist = model.fit(X_train, y_train,batch_size=20,epochs=200,validation_data=(X_val, y_val)) \n",
    "elapsed = (time.perf_counter()  - start)\n",
    "print(\"Time used:\",elapsed)"
   ]
  },
  {
   "cell_type": "code",
   "execution_count": 41,
   "metadata": {},
   "outputs": [],
   "source": [
    "def Saveplot(history):\n",
    "    plt.xlabel('Number of Epochs')\n",
    "    plt.ylabel('Loss')\n",
    "    plt.plot(history.epoch, history.history['loss'], 'red', lw=2,  label = 'Training')\n",
    "    plt.plot(history.epoch, history.history['val_loss'], 'blue', lw=2, label = 'Validation')\n",
    "\n",
    "    plt.legend()\n",
    "    plt.show()"
   ]
  },
  {
   "cell_type": "code",
   "execution_count": 42,
   "metadata": {},
   "outputs": [
    {
     "data": {
      "image/png": "[encoded data removed]",
      "text/plain": [
       "<Figure size 432x288 with 1 Axes>"
      ]
     },
     "metadata": {
      "needs_background": "light"
     },
     "output_type": "display_data"
    }
   ],
   "source": [
    "Saveplot(hist)"
   ]
  },
  {
   "cell_type": "code",
   "execution_count": 44,
   "metadata": {},
   "outputs": [],
   "source": [
    "trainPredict = model.predict(X_train)\n",
    "testPredict = model.predict(X_test)"
   ]
  },
  {
   "cell_type": "code",
   "execution_count": null,
   "metadata": {},
   "outputs": [],
   "source": [
    "print('MAE test:%.6f' % mean_absolute_error (np.array(y_test),np.array(testPredict)))"
   ]
  },
  {
   "cell_type": "code",
   "execution_count": 48,
   "metadata": {},
   "outputs": [],
   "source": [
    "df1=pd.DataFrame(testPredict)\n",
    "df2=pd.DataFrame(y_test)"
   ]
  },
  {
   "cell_type": "code",
   "execution_count": 49,
   "metadata": {},
   "outputs": [],
   "source": [
    "alldf = pd.concat([df2,df1],axis=1)\n",
    "alldf.columns=['實際停車數','預測停車數']\n",
    "alldf['差異']=alldf['預測停車數']-alldf['實際停車數']"
   ]
  },
  {
   "cell_type": "code",
   "execution_count": 51,
   "metadata": {},
   "outputs": [],
   "source": [
    "d2 = alldf[alldf['實際停車數']!=0]"
   ]
  },
  {
   "cell_type": "code",
   "execution_count": 52,
   "metadata": {},
   "outputs": [
    {
     "name": "stdout",
     "output_type": "stream",
     "text": [
      "10.630662407009952\n"
     ]
    }
   ],
   "source": [
    "print(mape(np.array(d2['實際停車數']), np.array(d2['預測停車數'])))"
   ]
  },
  {
   "cell_type": "markdown",
   "metadata": {},
   "source": [
    "# 峨眉停車場"
   ]
  },
  {
   "cell_type": "code",
   "execution_count": 81,
   "metadata": {
    "scrolled": true
   },
   "outputs": [],
   "source": [
    "Me_data = pd.read_csv('data_峨眉汽車.csv')\n",
    "Me_wea = pd.read_csv('Taipei_data.csv')"
   ]
  },
  {
   "cell_type": "code",
   "execution_count": 82,
   "metadata": {},
   "outputs": [],
   "source": [
    "Me_data = Me_data.rename(columns={'Unnamed: 0': '時間'}) \n",
    "Me_wea = Me_wea.drop(columns={'Unnamed: 0'}) "
   ]
  },
  {
   "cell_type": "code",
   "execution_count": 83,
   "metadata": {},
   "outputs": [],
   "source": [
    "tor2=Me_wea.loc[Me_wea['觀測時間']==24.0]\n",
    "mewea = Me_wea.drop(Me_wea[Me_wea['觀測時間']==24.0].index)"
   ]
  },
  {
   "cell_type": "code",
   "execution_count": 84,
   "metadata": {},
   "outputs": [],
   "source": [
    "for i in range(0,365):\n",
    "    mewea=insert(mewea,23*i,tor2.iloc[[i,]])"
   ]
  },
  {
   "cell_type": "code",
   "execution_count": 85,
   "metadata": {},
   "outputs": [],
   "source": [
    "mewea=mewea[['測站氣壓','氣溫','相對溼度','風速','風向','降水量']]\n",
    "scaler2 = MinMaxScaler(feature_range=(0, 1)).fit(mewea)\n",
    "X_scaled2 = scaler2.transform(mewea) #天氣資訊歸一化"
   ]
  },
  {
   "cell_type": "code",
   "execution_count": 86,
   "metadata": {},
   "outputs": [],
   "source": [
    "Mewea = pd.DataFrame(X_scaled2)"
   ]
  },
  {
   "cell_type": "code",
   "execution_count": 87,
   "metadata": {
    "scrolled": true
   },
   "outputs": [],
   "source": [
    "Mewea.columns = ['測站氣壓','氣溫','相對溼度','風速','風向','降水量']\n",
    "Me_all = pd.concat([Me_data,Mewea],axis=1)\n",
    "weak2 =pd.get_dummies(Me_all['星期幾'])\n",
    "Me_all=Me_all.drop(labels=['星期幾'],axis='columns')\n",
    "Me_all=pd.concat([Me_all,weak2],axis=1)\n",
    "\n",
    "Me_all['Time']=Me_all['時間'].str.split(' ').str.get(1)\n",
    "Me_all=Me_all[['時間','Time', '停留時間(秒)', '進場數量', '出場數量', '時段停車數', '週轉率', '使用率', '停車延時', '測站氣壓',\n",
    "       '氣溫', '相對溼度', '風速', '風向', '降水量', 'Friday', 'Monday', 'Saturday',\n",
    "       'Sunday', 'Thursday', 'Tuesday', 'Wednesday']]\n",
    "Me_all = Me_all.join(pd.get_dummies(Me_all.Time))\n",
    "Me_all=Me_all.drop(labels=['Time'],axis='columns')\n",
    "\n",
    "scale = StandardScaler() #z-scaler物件\n",
    "scale_param2 = scale.fit(Me_all['停留時間(秒)'].values.reshape(-1, 1))\n",
    "Me_all['停留時間(秒)'] = scale.fit_transform(Me_all['停留時間(秒)'].values.reshape(-1, 1),scale_param2)"
   ]
  },
  {
   "cell_type": "markdown",
   "metadata": {},
   "source": [
    "# delete hashtag when executing LSTM (df2_val)"
   ]
  },
  {
   "cell_type": "code",
   "execution_count": 88,
   "metadata": {},
   "outputs": [],
   "source": [
    "df2_train = Me_all[Me_all['時間']<'2021-01-01 00:00:00'].reset_index()\n",
    "#df2_val =  Me_all[(Me_all['時間']>='2021-01-01 00:00:00') & (Me_all['時間']<'2021-02-01 00:00:00')].reset_index()\n",
    "df2_test = Me_all[(Me_all['時間']>='2021-01-01 00:00:00') & (Me_all['時間']<'2021-04-01 00:00:00')].reset_index()\n",
    "\n",
    "df2_train=df2_train.drop(labels=['時間'],axis='columns')\n",
    "#df2_val = df2_val.drop(labels=['時間'],axis='columns')\n",
    "df2_test = df2_test.drop(labels=['時間'],axis='columns')\n",
    "\n",
    "df2_train['rank'] = df2_train[\"index\"].rank().astype(int)\n",
    "#df2_val['rank'] = df2_val[\"index\"].rank().astype(int)\n",
    "df2_test['rank'] = df2_test[\"index\"].rank().astype(int)\n",
    "\n",
    "df2_train=df2_train.drop(labels=['index'],axis='columns')\n",
    "#df2_val = df2_val.drop(labels=['index'],axis='columns')\n",
    "df2_test = df2_test.drop(labels=['index'],axis='columns')"
   ]
  },
  {
   "cell_type": "markdown",
   "metadata": {},
   "source": [
    "# LSTM"
   ]
  },
  {
   "cell_type": "code",
   "execution_count": 89,
   "metadata": {},
   "outputs": [
    {
     "ename": "NameError",
     "evalue": "name 'process_data' is not defined",
     "output_type": "error",
     "traceback": [
      "\u001b[0;31m---------------------------------------------------------------------------\u001b[0m",
      "\u001b[0;31mNameError\u001b[0m                                 Traceback (most recent call last)",
      "\u001b[0;32m<ipython-input-89-d06f850d5f46>\u001b[0m in \u001b[0;36m<module>\u001b[0;34m\u001b[0m\n\u001b[0;32m----> 1\u001b[0;31m \u001b[0mX2_train\u001b[0m\u001b[0;34m,\u001b[0m \u001b[0my2_train\u001b[0m\u001b[0;34m,\u001b[0m \u001b[0mX2_val\u001b[0m\u001b[0;34m,\u001b[0m \u001b[0my2_val\u001b[0m\u001b[0;34m,\u001b[0m \u001b[0mX2_test\u001b[0m\u001b[0;34m,\u001b[0m \u001b[0my2_test\u001b[0m \u001b[0;34m=\u001b[0m \u001b[0mprocess_data\u001b[0m\u001b[0;34m(\u001b[0m\u001b[0mdf2_train\u001b[0m\u001b[0;34m,\u001b[0m\u001b[0mdf2_val\u001b[0m\u001b[0;34m,\u001b[0m \u001b[0mdf2_test\u001b[0m\u001b[0;34m,\u001b[0m\u001b[0mpastTime\u001b[0m \u001b[0;34m,\u001b[0m\u001b[0mfutureTime\u001b[0m\u001b[0;34m)\u001b[0m\u001b[0;34m\u001b[0m\u001b[0;34m\u001b[0m\u001b[0m\n\u001b[0m",
      "\u001b[0;31mNameError\u001b[0m: name 'process_data' is not defined"
     ]
    }
   ],
   "source": [
    "X2_train, y2_train, X2_val, y2_val, X2_test, y2_test = process_data(df2_train,df2_val, df2_test,pastTime ,futureTime)"
   ]
  },
  {
   "cell_type": "code",
   "execution_count": 64,
   "metadata": {
    "scrolled": true
   },
   "outputs": [
    {
     "name": "stdout",
     "output_type": "stream",
     "text": [
      "Model: \"sequential_7\"\n",
      "_________________________________________________________________\n",
      "Layer (type)                 Output Shape              Param #   \n",
      "=================================================================\n",
      "lstm_7 (LSTM)                (None, 2, 20)             4800      \n",
      "_________________________________________________________________\n",
      "dropout_6 (Dropout)          (None, 2, 20)             0         \n",
      "_________________________________________________________________\n",
      "lstm_8 (LSTM)                (None, 16)                2368      \n",
      "_________________________________________________________________\n",
      "dropout_7 (Dropout)          (None, 16)                0         \n",
      "_________________________________________________________________\n",
      "dense_2 (Dense)              (None, 1)                 17        \n",
      "=================================================================\n",
      "Total params: 7,185\n",
      "Trainable params: 7,185\n",
      "Non-trainable params: 0\n",
      "_________________________________________________________________\n",
      "None\n"
     ]
    },
    {
     "name": "stderr",
     "output_type": "stream",
     "text": [
      "/Users/julia/opt/anaconda3/lib/python3.8/site-packages/tensorflow/python/keras/optimizer_v2/optimizer_v2.py:374: UserWarning: The `lr` argument is deprecated, use `learning_rate` instead.\n",
      "  warnings.warn(\n"
     ]
    }
   ],
   "source": [
    "model = tensorflow.keras.Sequential()\n",
    "def get_lstm(X_shape):\n",
    "    model = Sequential()\n",
    "    model.add(LSTM(20, activation='relu', input_shape=(X_train.shape[1], X_train.shape[2]),return_sequences=True))\n",
    "    model.add(Dropout(0.1))\n",
    "    \n",
    "    model.add(LSTM(16,activation='relu'))\n",
    "    model.add(Dropout(0.1))\n",
    "    \n",
    "    model.add(Dense(units = 1))\n",
    "    return model\n",
    "\n",
    "\n",
    "adam = Adam(lr=0.001, beta_1=0.9, beta_2=0.999, epsilon=None, decay=0.0, amsgrad=False)\n",
    "model_2 = get_lstm(X2_train.shape)\n",
    "model_2.compile(loss='mae', optimizer=adam)\n",
    "print(model_2.summary())"
   ]
  },
  {
   "cell_type": "code",
   "execution_count": 65,
   "metadata": {
    "scrolled": true
   },
   "outputs": [
    {
     "name": "stdout",
     "output_type": "stream",
     "text": [
      "Epoch 1/200\n",
      "330/330 [==============================] - 3s 3ms/step - loss: 101.3661 - val_loss: 36.6034\n",
      "Epoch 2/200\n",
      "330/330 [==============================] - 1s 2ms/step - loss: 44.4561 - val_loss: 27.8800\n",
      "Epoch 3/200\n",
      "330/330 [==============================] - 1s 2ms/step - loss: 41.4003 - val_loss: 35.6545\n",
      "Epoch 4/200\n",
      "330/330 [==============================] - 1s 2ms/step - loss: 39.4802 - val_loss: 30.7135\n",
      "Epoch 5/200\n",
      "330/330 [==============================] - 1s 2ms/step - loss: 38.6200 - val_loss: 39.3254\n",
      "Epoch 6/200\n",
      "330/330 [==============================] - 1s 2ms/step - loss: 37.2297 - val_loss: 38.9078\n",
      "Epoch 7/200\n",
      "330/330 [==============================] - 1s 2ms/step - loss: 35.7089 - val_loss: 27.4773\n",
      "Epoch 8/200\n",
      "330/330 [==============================] - 1s 2ms/step - loss: 35.8925 - val_loss: 26.8946\n",
      "Epoch 9/200\n",
      "330/330 [==============================] - 1s 2ms/step - loss: 33.7905 - val_loss: 29.3155\n",
      "Epoch 10/200\n",
      "330/330 [==============================] - 1s 2ms/step - loss: 33.2879 - val_loss: 20.8781\n",
      "Epoch 11/200\n",
      "330/330 [==============================] - 1s 2ms/step - loss: 32.0264 - val_loss: 21.7248\n",
      "Epoch 12/200\n",
      "330/330 [==============================] - 1s 2ms/step - loss: 33.7730 - val_loss: 25.5020\n",
      "Epoch 13/200\n",
      "330/330 [==============================] - 1s 3ms/step - loss: 31.6619 - val_loss: 34.6862\n",
      "Epoch 14/200\n",
      "330/330 [==============================] - 1s 2ms/step - loss: 31.5542 - val_loss: 38.2716\n",
      "Epoch 15/200\n",
      "330/330 [==============================] - 1s 2ms/step - loss: 30.6283 - val_loss: 29.1102\n",
      "Epoch 16/200\n",
      "330/330 [==============================] - 1s 2ms/step - loss: 30.3282 - val_loss: 33.1058\n",
      "Epoch 17/200\n",
      "330/330 [==============================] - 1s 2ms/step - loss: 29.5976 - val_loss: 32.5982\n",
      "Epoch 18/200\n",
      "330/330 [==============================] - 1s 2ms/step - loss: 29.3128 - val_loss: 31.3386\n",
      "Epoch 19/200\n",
      "330/330 [==============================] - 1s 2ms/step - loss: 31.0092 - val_loss: 40.4746\n",
      "Epoch 20/200\n",
      "330/330 [==============================] - 1s 2ms/step - loss: 29.1870 - val_loss: 23.0536\n",
      "Epoch 21/200\n",
      "330/330 [==============================] - 1s 2ms/step - loss: 30.1104 - val_loss: 26.8878\n",
      "Epoch 22/200\n",
      "330/330 [==============================] - 1s 2ms/step - loss: 29.2422 - val_loss: 32.5017\n",
      "Epoch 23/200\n",
      "330/330 [==============================] - 1s 2ms/step - loss: 29.2560 - val_loss: 27.8356\n",
      "Epoch 24/200\n",
      "330/330 [==============================] - 1s 2ms/step - loss: 29.9233 - val_loss: 40.4264\n",
      "Epoch 25/200\n",
      "330/330 [==============================] - 1s 2ms/step - loss: 28.2872 - val_loss: 34.6467\n",
      "Epoch 26/200\n",
      "330/330 [==============================] - 1s 2ms/step - loss: 31.3534 - val_loss: 40.0310\n",
      "Epoch 27/200\n",
      "330/330 [==============================] - 1s 2ms/step - loss: 31.8310 - val_loss: 48.0929\n",
      "Epoch 28/200\n",
      "330/330 [==============================] - 1s 2ms/step - loss: 29.9635 - val_loss: 32.0458\n",
      "Epoch 29/200\n",
      "330/330 [==============================] - 1s 2ms/step - loss: 29.1069 - val_loss: 21.3211\n",
      "Epoch 30/200\n",
      "330/330 [==============================] - 1s 2ms/step - loss: 28.5277 - val_loss: 39.9689\n",
      "Epoch 31/200\n",
      "330/330 [==============================] - 1s 2ms/step - loss: 28.2289 - val_loss: 33.2697\n",
      "Epoch 32/200\n",
      "330/330 [==============================] - 1s 2ms/step - loss: 27.6693 - val_loss: 25.8964\n",
      "Epoch 33/200\n",
      "330/330 [==============================] - 1s 2ms/step - loss: 28.1957 - val_loss: 28.3752\n",
      "Epoch 34/200\n",
      "330/330 [==============================] - 1s 2ms/step - loss: 27.6785 - val_loss: 29.2627\n",
      "Epoch 35/200\n",
      "330/330 [==============================] - 1s 2ms/step - loss: 27.5432 - val_loss: 27.9372\n",
      "Epoch 36/200\n",
      "330/330 [==============================] - 1s 2ms/step - loss: 27.9506 - val_loss: 40.5430\n",
      "Epoch 37/200\n",
      "330/330 [==============================] - 1s 2ms/step - loss: 28.0990 - val_loss: 36.5323\n",
      "Epoch 38/200\n",
      "330/330 [==============================] - 1s 2ms/step - loss: 28.2469 - val_loss: 27.1749\n",
      "Epoch 39/200\n",
      "330/330 [==============================] - 1s 2ms/step - loss: 27.7312 - val_loss: 18.6837\n",
      "Epoch 40/200\n",
      "330/330 [==============================] - 1s 2ms/step - loss: 28.6141 - val_loss: 33.2218\n",
      "Epoch 41/200\n",
      "330/330 [==============================] - 1s 2ms/step - loss: 27.1989 - val_loss: 28.2946\n",
      "Epoch 42/200\n",
      "330/330 [==============================] - 1s 2ms/step - loss: 26.6462 - val_loss: 24.4398\n",
      "Epoch 43/200\n",
      "330/330 [==============================] - 1s 2ms/step - loss: 27.3274 - val_loss: 25.8691\n",
      "Epoch 44/200\n",
      "330/330 [==============================] - 1s 2ms/step - loss: 26.9141 - val_loss: 30.6269\n",
      "Epoch 45/200\n",
      "330/330 [==============================] - 1s 2ms/step - loss: 27.1839 - val_loss: 31.5509\n",
      "Epoch 46/200\n",
      "330/330 [==============================] - 1s 2ms/step - loss: 26.8117 - val_loss: 29.1493\n",
      "Epoch 47/200\n",
      "330/330 [==============================] - 1s 2ms/step - loss: 26.6382 - val_loss: 43.2822\n",
      "Epoch 48/200\n",
      "330/330 [==============================] - 1s 2ms/step - loss: 26.7795 - val_loss: 30.7369\n",
      "Epoch 49/200\n",
      "330/330 [==============================] - 1s 2ms/step - loss: 26.4355 - val_loss: 27.3533\n",
      "Epoch 50/200\n",
      "330/330 [==============================] - 1s 2ms/step - loss: 27.1432 - val_loss: 38.2471\n",
      "Epoch 51/200\n",
      "330/330 [==============================] - 1s 2ms/step - loss: 26.6786 - val_loss: 22.6356\n",
      "Epoch 52/200\n",
      "330/330 [==============================] - 1s 2ms/step - loss: 26.5763 - val_loss: 33.8221\n",
      "Epoch 53/200\n",
      "330/330 [==============================] - 1s 2ms/step - loss: 26.3423 - val_loss: 32.9169\n",
      "Epoch 54/200\n",
      "330/330 [==============================] - 1s 2ms/step - loss: 27.0654 - val_loss: 36.6006\n",
      "Epoch 55/200\n",
      "330/330 [==============================] - 1s 2ms/step - loss: 27.2899 - val_loss: 30.1729\n",
      "Epoch 56/200\n",
      "330/330 [==============================] - 1s 2ms/step - loss: 26.0573 - val_loss: 28.1887\n",
      "Epoch 57/200\n",
      "330/330 [==============================] - 1s 2ms/step - loss: 26.5213 - val_loss: 32.7710\n",
      "Epoch 58/200\n",
      "330/330 [==============================] - 1s 3ms/step - loss: 26.2186 - val_loss: 39.4625\n",
      "Epoch 59/200\n",
      "330/330 [==============================] - 1s 2ms/step - loss: 25.5467 - val_loss: 28.2454\n",
      "Epoch 60/200\n",
      "330/330 [==============================] - 1s 2ms/step - loss: 25.9342 - val_loss: 42.2454\n",
      "Epoch 61/200\n",
      "330/330 [==============================] - 1s 2ms/step - loss: 26.5746 - val_loss: 44.2909\n",
      "Epoch 62/200\n",
      "330/330 [==============================] - 1s 2ms/step - loss: 25.4899 - val_loss: 36.1013\n",
      "Epoch 63/200\n",
      "330/330 [==============================] - 1s 2ms/step - loss: 26.2098 - val_loss: 19.8452\n",
      "Epoch 64/200\n",
      "330/330 [==============================] - 1s 2ms/step - loss: 25.3054 - val_loss: 22.9182\n",
      "Epoch 65/200\n",
      "330/330 [==============================] - 1s 2ms/step - loss: 25.0014 - val_loss: 27.9550\n",
      "Epoch 66/200\n",
      "330/330 [==============================] - 1s 2ms/step - loss: 25.5749 - val_loss: 31.5794\n",
      "Epoch 67/200\n",
      "330/330 [==============================] - 1s 2ms/step - loss: 24.9516 - val_loss: 38.5199\n",
      "Epoch 68/200\n",
      "330/330 [==============================] - 1s 2ms/step - loss: 25.3830 - val_loss: 29.6161\n",
      "Epoch 69/200\n",
      "330/330 [==============================] - 1s 2ms/step - loss: 25.5457 - val_loss: 28.8146\n",
      "Epoch 70/200\n",
      "330/330 [==============================] - 1s 2ms/step - loss: 25.0592 - val_loss: 30.8268\n",
      "Epoch 71/200\n",
      "330/330 [==============================] - 1s 2ms/step - loss: 24.8290 - val_loss: 30.7374\n",
      "Epoch 72/200\n",
      "330/330 [==============================] - 1s 3ms/step - loss: 25.4793 - val_loss: 31.9038\n",
      "Epoch 73/200\n",
      "330/330 [==============================] - 1s 2ms/step - loss: 24.8364 - val_loss: 29.7943\n",
      "Epoch 74/200\n",
      "330/330 [==============================] - 1s 2ms/step - loss: 24.8059 - val_loss: 32.8285\n",
      "Epoch 75/200\n",
      "330/330 [==============================] - 1s 2ms/step - loss: 25.3738 - val_loss: 20.3868\n",
      "Epoch 76/200\n",
      "330/330 [==============================] - 1s 2ms/step - loss: 24.6738 - val_loss: 30.5129\n",
      "Epoch 77/200\n",
      "330/330 [==============================] - 1s 3ms/step - loss: 24.0277 - val_loss: 17.7965\n",
      "Epoch 78/200\n",
      "330/330 [==============================] - 1s 2ms/step - loss: 24.5157 - val_loss: 38.4737\n",
      "Epoch 79/200\n",
      "330/330 [==============================] - 1s 2ms/step - loss: 24.5949 - val_loss: 34.5781\n"
     ]
    },
    {
     "name": "stdout",
     "output_type": "stream",
     "text": [
      "Epoch 80/200\n",
      "330/330 [==============================] - 1s 2ms/step - loss: 24.6990 - val_loss: 41.6768\n",
      "Epoch 81/200\n",
      "330/330 [==============================] - 1s 2ms/step - loss: 25.1035 - val_loss: 37.9490\n",
      "Epoch 82/200\n",
      "330/330 [==============================] - 1s 2ms/step - loss: 23.5379 - val_loss: 18.7860\n",
      "Epoch 83/200\n",
      "330/330 [==============================] - 1s 3ms/step - loss: 24.6492 - val_loss: 33.6739\n",
      "Epoch 84/200\n",
      "330/330 [==============================] - 1s 2ms/step - loss: 24.8444 - val_loss: 29.0617\n",
      "Epoch 85/200\n",
      "330/330 [==============================] - 1s 3ms/step - loss: 24.4819 - val_loss: 33.7037\n",
      "Epoch 86/200\n",
      "330/330 [==============================] - 1s 2ms/step - loss: 23.8892 - val_loss: 36.4740\n",
      "Epoch 87/200\n",
      "330/330 [==============================] - 1s 2ms/step - loss: 24.2677 - val_loss: 30.5013\n",
      "Epoch 88/200\n",
      "330/330 [==============================] - 1s 2ms/step - loss: 24.0447 - val_loss: 27.9272\n",
      "Epoch 89/200\n",
      "330/330 [==============================] - 1s 2ms/step - loss: 23.3661 - val_loss: 25.5767\n",
      "Epoch 90/200\n",
      "330/330 [==============================] - 1s 2ms/step - loss: 24.4136 - val_loss: 31.3875\n",
      "Epoch 91/200\n",
      "330/330 [==============================] - 1s 2ms/step - loss: 23.2749 - val_loss: 31.2152\n",
      "Epoch 92/200\n",
      "330/330 [==============================] - 1s 2ms/step - loss: 23.5645 - val_loss: 39.1708\n",
      "Epoch 93/200\n",
      "330/330 [==============================] - 1s 2ms/step - loss: 23.3675 - val_loss: 29.2432\n",
      "Epoch 94/200\n",
      "330/330 [==============================] - 1s 2ms/step - loss: 23.7758 - val_loss: 30.3873\n",
      "Epoch 95/200\n",
      "330/330 [==============================] - 1s 2ms/step - loss: 24.0407 - val_loss: 31.6407\n",
      "Epoch 96/200\n",
      "330/330 [==============================] - 1s 2ms/step - loss: 23.9450 - val_loss: 36.7811\n",
      "Epoch 97/200\n",
      "330/330 [==============================] - 1s 2ms/step - loss: 23.5519 - val_loss: 29.7081\n",
      "Epoch 98/200\n",
      "330/330 [==============================] - 1s 2ms/step - loss: 23.6906 - val_loss: 25.7260\n",
      "Epoch 99/200\n",
      "330/330 [==============================] - 1s 2ms/step - loss: 23.5934 - val_loss: 40.0803\n",
      "Epoch 100/200\n",
      "330/330 [==============================] - 1s 2ms/step - loss: 24.0800 - val_loss: 22.0559\n",
      "Epoch 101/200\n",
      "330/330 [==============================] - 1s 2ms/step - loss: 23.8041 - val_loss: 26.8057\n",
      "Epoch 102/200\n",
      "330/330 [==============================] - 1s 2ms/step - loss: 24.1404 - val_loss: 21.9178\n",
      "Epoch 103/200\n",
      "330/330 [==============================] - 1s 2ms/step - loss: 23.6373 - val_loss: 34.5552\n",
      "Epoch 104/200\n",
      "330/330 [==============================] - 1s 2ms/step - loss: 23.5617 - val_loss: 26.1004\n",
      "Epoch 105/200\n",
      "330/330 [==============================] - 1s 2ms/step - loss: 23.2901 - val_loss: 37.3410\n",
      "Epoch 106/200\n",
      "330/330 [==============================] - 1s 2ms/step - loss: 22.9275 - val_loss: 31.2156\n",
      "Epoch 107/200\n",
      "330/330 [==============================] - 1s 2ms/step - loss: 23.2281 - val_loss: 26.4729\n",
      "Epoch 108/200\n",
      "330/330 [==============================] - 1s 2ms/step - loss: 23.0916 - val_loss: 37.6464\n",
      "Epoch 109/200\n",
      "330/330 [==============================] - 1s 2ms/step - loss: 23.8114 - val_loss: 32.4714\n",
      "Epoch 110/200\n",
      "330/330 [==============================] - 1s 2ms/step - loss: 23.3378 - val_loss: 37.3981\n",
      "Epoch 111/200\n",
      "330/330 [==============================] - 1s 2ms/step - loss: 23.0665 - val_loss: 26.9324\n",
      "Epoch 112/200\n",
      "330/330 [==============================] - 1s 2ms/step - loss: 23.4061 - val_loss: 35.6907\n",
      "Epoch 113/200\n",
      "330/330 [==============================] - 1s 2ms/step - loss: 23.2123 - val_loss: 35.1041\n",
      "Epoch 114/200\n",
      "330/330 [==============================] - 1s 3ms/step - loss: 23.2646 - val_loss: 18.8955\n",
      "Epoch 115/200\n",
      "330/330 [==============================] - 1s 3ms/step - loss: 23.2988 - val_loss: 32.6459\n",
      "Epoch 116/200\n",
      "330/330 [==============================] - 1s 3ms/step - loss: 23.7606 - val_loss: 22.9226\n",
      "Epoch 117/200\n",
      "330/330 [==============================] - 1s 3ms/step - loss: 22.8774 - val_loss: 38.3906\n",
      "Epoch 118/200\n",
      "330/330 [==============================] - 1s 3ms/step - loss: 23.3017 - val_loss: 29.2648\n",
      "Epoch 119/200\n",
      "330/330 [==============================] - 1s 2ms/step - loss: 23.6131 - val_loss: 30.8506\n",
      "Epoch 120/200\n",
      "330/330 [==============================] - 1s 2ms/step - loss: 23.5429 - val_loss: 23.8819\n",
      "Epoch 121/200\n",
      "330/330 [==============================] - 1s 3ms/step - loss: 24.0228 - val_loss: 38.8727\n",
      "Epoch 122/200\n",
      "330/330 [==============================] - 1s 2ms/step - loss: 23.3141 - val_loss: 40.3224\n",
      "Epoch 123/200\n",
      "330/330 [==============================] - 1s 2ms/step - loss: 23.0940 - val_loss: 33.7441\n",
      "Epoch 124/200\n",
      "330/330 [==============================] - 1s 2ms/step - loss: 23.7541 - val_loss: 27.8296\n",
      "Epoch 125/200\n",
      "330/330 [==============================] - 1s 2ms/step - loss: 23.5134 - val_loss: 30.5295\n",
      "Epoch 126/200\n",
      "330/330 [==============================] - 1s 2ms/step - loss: 23.4737 - val_loss: 29.1769\n",
      "Epoch 127/200\n",
      "330/330 [==============================] - 1s 2ms/step - loss: 23.8141 - val_loss: 27.5316\n",
      "Epoch 128/200\n",
      "330/330 [==============================] - 1s 2ms/step - loss: 23.1842 - val_loss: 30.9679\n",
      "Epoch 129/200\n",
      "330/330 [==============================] - 1s 2ms/step - loss: 22.7063 - val_loss: 39.0334\n",
      "Epoch 130/200\n",
      "330/330 [==============================] - 1s 2ms/step - loss: 23.2411 - val_loss: 25.4926\n",
      "Epoch 131/200\n",
      "330/330 [==============================] - 1s 2ms/step - loss: 22.3889 - val_loss: 26.6508\n",
      "Epoch 132/200\n",
      "330/330 [==============================] - 1s 2ms/step - loss: 22.9714 - val_loss: 25.8200\n",
      "Epoch 133/200\n",
      "330/330 [==============================] - 1s 2ms/step - loss: 22.6577 - val_loss: 36.4692\n",
      "Epoch 134/200\n",
      "330/330 [==============================] - 1s 2ms/step - loss: 22.7686 - val_loss: 31.1045\n",
      "Epoch 135/200\n",
      "330/330 [==============================] - 1s 2ms/step - loss: 23.1237 - val_loss: 29.9954\n",
      "Epoch 136/200\n",
      "330/330 [==============================] - 1s 2ms/step - loss: 22.8972 - val_loss: 36.5433\n",
      "Epoch 137/200\n",
      "330/330 [==============================] - 1s 2ms/step - loss: 22.8465 - val_loss: 36.1480\n",
      "Epoch 138/200\n",
      "330/330 [==============================] - 1s 2ms/step - loss: 23.7929 - val_loss: 30.3710\n",
      "Epoch 139/200\n",
      "330/330 [==============================] - 1s 2ms/step - loss: 22.5571 - val_loss: 28.2337\n",
      "Epoch 140/200\n",
      "330/330 [==============================] - 1s 2ms/step - loss: 22.6295 - val_loss: 22.9171\n",
      "Epoch 141/200\n",
      "330/330 [==============================] - 1s 2ms/step - loss: 23.0347 - val_loss: 26.9823\n",
      "Epoch 142/200\n",
      "330/330 [==============================] - 1s 2ms/step - loss: 23.2775 - val_loss: 36.4589\n",
      "Epoch 143/200\n",
      "330/330 [==============================] - 1s 2ms/step - loss: 22.8893 - val_loss: 29.2645\n",
      "Epoch 144/200\n",
      "330/330 [==============================] - 1s 2ms/step - loss: 22.4005 - val_loss: 25.6492\n",
      "Epoch 145/200\n",
      "330/330 [==============================] - 1s 2ms/step - loss: 22.3134 - val_loss: 22.7767\n",
      "Epoch 146/200\n",
      "330/330 [==============================] - 1s 2ms/step - loss: 22.4416 - val_loss: 27.8775\n",
      "Epoch 147/200\n",
      "330/330 [==============================] - 1s 2ms/step - loss: 22.6967 - val_loss: 28.6557\n",
      "Epoch 148/200\n",
      "330/330 [==============================] - 1s 2ms/step - loss: 22.9520 - val_loss: 32.3837\n",
      "Epoch 149/200\n",
      "330/330 [==============================] - 1s 2ms/step - loss: 22.5003 - val_loss: 35.4609\n",
      "Epoch 150/200\n",
      "330/330 [==============================] - 1s 2ms/step - loss: 22.7672 - val_loss: 36.4573\n",
      "Epoch 151/200\n",
      "330/330 [==============================] - 1s 2ms/step - loss: 22.7276 - val_loss: 22.3338\n",
      "Epoch 152/200\n",
      "330/330 [==============================] - 1s 2ms/step - loss: 22.8626 - val_loss: 31.9890\n",
      "Epoch 153/200\n",
      "330/330 [==============================] - 1s 2ms/step - loss: 22.8572 - val_loss: 38.5879\n",
      "Epoch 154/200\n",
      "330/330 [==============================] - 1s 2ms/step - loss: 23.0689 - val_loss: 32.0587\n",
      "Epoch 155/200\n",
      "330/330 [==============================] - 1s 2ms/step - loss: 22.0210 - val_loss: 37.2772\n",
      "Epoch 156/200\n",
      "330/330 [==============================] - 1s 2ms/step - loss: 22.7203 - val_loss: 29.0360\n",
      "Epoch 157/200\n",
      "330/330 [==============================] - 1s 2ms/step - loss: 23.2322 - val_loss: 34.1516\n",
      "Epoch 158/200\n",
      "330/330 [==============================] - 1s 2ms/step - loss: 23.2071 - val_loss: 30.1986\n",
      "Epoch 159/200\n",
      "330/330 [==============================] - 1s 2ms/step - loss: 22.7280 - val_loss: 34.0654\n",
      "Epoch 160/200\n",
      "330/330 [==============================] - 1s 2ms/step - loss: 22.9256 - val_loss: 32.3001\n",
      "Epoch 161/200\n",
      "330/330 [==============================] - 1s 2ms/step - loss: 23.6439 - val_loss: 31.9817\n",
      "Epoch 162/200\n",
      "330/330 [==============================] - 1s 2ms/step - loss: 23.0658 - val_loss: 33.1708\n",
      "Epoch 163/200\n",
      "330/330 [==============================] - 1s 2ms/step - loss: 23.1437 - val_loss: 30.1809\n",
      "Epoch 164/200\n",
      "330/330 [==============================] - 1s 2ms/step - loss: 23.5289 - val_loss: 28.1069\n",
      "Epoch 165/200\n",
      "330/330 [==============================] - 1s 3ms/step - loss: 22.8411 - val_loss: 36.8408\n",
      "Epoch 166/200\n",
      "330/330 [==============================] - 1s 3ms/step - loss: 23.0623 - val_loss: 28.3338\n",
      "Epoch 167/200\n",
      "330/330 [==============================] - 1s 2ms/step - loss: 22.8371 - val_loss: 26.3971\n",
      "Epoch 168/200\n",
      "330/330 [==============================] - 1s 2ms/step - loss: 22.6949 - val_loss: 30.8977\n",
      "Epoch 169/200\n",
      "330/330 [==============================] - 1s 3ms/step - loss: 21.4062 - val_loss: 25.1173\n",
      "Epoch 170/200\n",
      "330/330 [==============================] - 1s 2ms/step - loss: 22.6810 - val_loss: 29.3921\n",
      "Epoch 171/200\n",
      "330/330 [==============================] - 1s 2ms/step - loss: 22.9301 - val_loss: 27.0437\n",
      "Epoch 172/200\n",
      "330/330 [==============================] - 1s 3ms/step - loss: 22.0088 - val_loss: 36.4039\n",
      "Epoch 173/200\n",
      "330/330 [==============================] - 1s 3ms/step - loss: 22.7438 - val_loss: 33.1062\n",
      "Epoch 174/200\n",
      "330/330 [==============================] - 1s 3ms/step - loss: 22.7933 - val_loss: 39.7073\n",
      "Epoch 175/200\n",
      "330/330 [==============================] - 1s 2ms/step - loss: 22.4361 - val_loss: 33.1597\n",
      "Epoch 176/200\n",
      "330/330 [==============================] - 1s 2ms/step - loss: 22.2994 - val_loss: 38.3486\n",
      "Epoch 177/200\n",
      "330/330 [==============================] - 1s 2ms/step - loss: 22.0955 - val_loss: 30.0953\n",
      "Epoch 178/200\n",
      "330/330 [==============================] - 1s 2ms/step - loss: 22.2014 - val_loss: 37.2451\n",
      "Epoch 179/200\n",
      "330/330 [==============================] - 1s 2ms/step - loss: 21.9008 - val_loss: 31.2077\n",
      "Epoch 180/200\n",
      "330/330 [==============================] - 1s 2ms/step - loss: 22.1647 - val_loss: 29.3191\n",
      "Epoch 181/200\n",
      "330/330 [==============================] - 1s 2ms/step - loss: 22.0933 - val_loss: 28.6370\n",
      "Epoch 182/200\n",
      "330/330 [==============================] - 1s 2ms/step - loss: 21.9357 - val_loss: 25.4086\n",
      "Epoch 183/200\n",
      "330/330 [==============================] - 1s 2ms/step - loss: 21.7303 - val_loss: 25.1237\n",
      "Epoch 184/200\n",
      "330/330 [==============================] - 1s 2ms/step - loss: 22.0549 - val_loss: 25.4281\n",
      "Epoch 185/200\n",
      "330/330 [==============================] - 1s 2ms/step - loss: 22.6359 - val_loss: 32.4834\n",
      "Epoch 186/200\n",
      "330/330 [==============================] - 1s 2ms/step - loss: 21.9784 - val_loss: 30.7319\n",
      "Epoch 187/200\n",
      "330/330 [==============================] - 1s 2ms/step - loss: 21.8930 - val_loss: 31.1895\n",
      "Epoch 188/200\n",
      "330/330 [==============================] - 1s 2ms/step - loss: 21.9557 - val_loss: 29.3110\n",
      "Epoch 189/200\n",
      "330/330 [==============================] - 1s 2ms/step - loss: 22.2908 - val_loss: 35.0296\n",
      "Epoch 190/200\n",
      "330/330 [==============================] - 1s 2ms/step - loss: 22.0733 - val_loss: 33.0719\n",
      "Epoch 191/200\n",
      "330/330 [==============================] - 1s 2ms/step - loss: 21.4543 - val_loss: 29.7348\n",
      "Epoch 192/200\n",
      "330/330 [==============================] - 1s 2ms/step - loss: 21.7539 - val_loss: 31.3087\n",
      "Epoch 193/200\n",
      "330/330 [==============================] - 1s 2ms/step - loss: 21.5383 - val_loss: 25.1041\n",
      "Epoch 194/200\n",
      "330/330 [==============================] - 1s 2ms/step - loss: 21.6945 - val_loss: 33.5609\n",
      "Epoch 195/200\n",
      "330/330 [==============================] - 1s 2ms/step - loss: 22.0034 - val_loss: 22.8657\n",
      "Epoch 196/200\n",
      "330/330 [==============================] - 1s 2ms/step - loss: 21.9809 - val_loss: 40.9590\n",
      "Epoch 197/200\n",
      "330/330 [==============================] - 1s 2ms/step - loss: 21.7540 - val_loss: 33.3670\n",
      "Epoch 198/200\n",
      "330/330 [==============================] - 1s 2ms/step - loss: 22.4387 - val_loss: 34.5899\n",
      "Epoch 199/200\n",
      "330/330 [==============================] - 1s 2ms/step - loss: 22.2437 - val_loss: 28.9589\n",
      "Epoch 200/200\n",
      "330/330 [==============================] - 1s 2ms/step - loss: 21.8490 - val_loss: 21.6781\n",
      "Time used: 152.63247309400003\n"
     ]
    }
   ],
   "source": [
    "import time\n",
    "start = time.perf_counter() \n",
    "hist2 = model_2.fit(X2_train, y2_train,batch_size=20,epochs=200,validation_data=(X2_val, y2_val)) \n",
    "elapsed = (time.perf_counter()  - start)\n",
    "print(\"Time used:\",elapsed)\n"
   ]
  },
  {
   "cell_type": "code",
   "execution_count": 66,
   "metadata": {},
   "outputs": [
    {
     "data": {
      "image/png": "[encoded data removed]",
      "text/plain": [
       "<Figure size 432x288 with 1 Axes>"
      ]
     },
     "metadata": {
      "needs_background": "light"
     },
     "output_type": "display_data"
    }
   ],
   "source": [
    "Saveplot(hist2)"
   ]
  },
  {
   "cell_type": "code",
   "execution_count": 67,
   "metadata": {},
   "outputs": [],
   "source": [
    "trainPredict2 = model_2.predict(X2_train)\n",
    "testPredict2 = model_2.predict(X2_test)"
   ]
  },
  {
   "cell_type": "code",
   "execution_count": 68,
   "metadata": {},
   "outputs": [
    {
     "name": "stdout",
     "output_type": "stream",
     "text": [
      "MAE test:27.302231\n"
     ]
    }
   ],
   "source": [
    "print('MAE test:%.6f' % mean_absolute_error (y2_test,testPredict2))"
   ]
  },
  {
   "cell_type": "code",
   "execution_count": 69,
   "metadata": {},
   "outputs": [],
   "source": [
    "df11=pd.DataFrame(testPredict2)\n",
    "df22=pd.DataFrame(y2_test)"
   ]
  },
  {
   "cell_type": "code",
   "execution_count": 70,
   "metadata": {},
   "outputs": [],
   "source": [
    "alldf2 = pd.concat([df22,df11],axis=1)"
   ]
  },
  {
   "cell_type": "code",
   "execution_count": 71,
   "metadata": {},
   "outputs": [],
   "source": [
    "alldf2.columns=['實際停車數','預測停車數']"
   ]
  },
  {
   "cell_type": "code",
   "execution_count": 72,
   "metadata": {},
   "outputs": [],
   "source": [
    "alldf2['差異']=alldf2['預測停車數']-alldf2['實際停車數']"
   ]
  },
  {
   "cell_type": "code",
   "execution_count": 73,
   "metadata": {},
   "outputs": [],
   "source": [
    "d3 = alldf2[alldf2['實際停車數']!=0]"
   ]
  },
  {
   "cell_type": "code",
   "execution_count": 74,
   "metadata": {},
   "outputs": [
    {
     "name": "stdout",
     "output_type": "stream",
     "text": [
      "9.180712151431072\n"
     ]
    }
   ],
   "source": [
    "print(mape(np.array(d3['實際停車數']), np.array(d3['預測停車數'])))"
   ]
  },
  {
   "cell_type": "markdown",
   "metadata": {},
   "source": [
    "# XGBoost"
   ]
  },
  {
   "cell_type": "code",
   "execution_count": 90,
   "metadata": {},
   "outputs": [],
   "source": [
    "X2_train = df2_train.iloc[:,:44]"
   ]
  },
  {
   "cell_type": "code",
   "execution_count": 91,
   "metadata": {},
   "outputs": [],
   "source": [
    "X2_train=X2_train[['停留時間(秒)',  '週轉率', '使用率', '停車延時', '測站氣壓', '氣溫',\n",
    "       '相對溼度', '降水量', 'Friday', 'Monday', 'Saturday', 'Sunday',\n",
    "       'Thursday', 'Tuesday', 'Wednesday', '00:00:00', '01:00:00', '02:00:00',\n",
    "       '03:00:00', '04:00:00', '05:00:00', '06:00:00', '07:00:00', '08:00:00',\n",
    "       '09:00:00', '10:00:00', '11:00:00', '12:00:00', '13:00:00', '14:00:00',\n",
    "       '15:00:00', '16:00:00', '17:00:00', '18:00:00', '19:00:00', '20:00:00',\n",
    "       '21:00:00', '22:00:00', '23:00:00']]"
   ]
  },
  {
   "cell_type": "code",
   "execution_count": 92,
   "metadata": {},
   "outputs": [],
   "source": [
    "y2_train = df2_train.iloc[:,3]"
   ]
  },
  {
   "cell_type": "code",
   "execution_count": 93,
   "metadata": {
    "scrolled": true
   },
   "outputs": [],
   "source": [
    "X2_test = df2_test.iloc[:,:44]"
   ]
  },
  {
   "cell_type": "code",
   "execution_count": 94,
   "metadata": {},
   "outputs": [],
   "source": [
    "X2_test=X2_test[['停留時間(秒)',  '週轉率', '使用率', '停車延時', '測站氣壓', '氣溫',\n",
    "       '相對溼度', '降水量', 'Friday', 'Monday', 'Saturday', 'Sunday',\n",
    "       'Thursday', 'Tuesday', 'Wednesday', '00:00:00', '01:00:00', '02:00:00',\n",
    "       '03:00:00', '04:00:00', '05:00:00', '06:00:00', '07:00:00', '08:00:00',\n",
    "       '09:00:00', '10:00:00', '11:00:00', '12:00:00', '13:00:00', '14:00:00',\n",
    "       '15:00:00', '16:00:00', '17:00:00', '18:00:00', '19:00:00', '20:00:00',\n",
    "       '21:00:00', '22:00:00', '23:00:00']]"
   ]
  },
  {
   "cell_type": "code",
   "execution_count": 95,
   "metadata": {},
   "outputs": [],
   "source": [
    "y2_test = df2_test.iloc[:,3]"
   ]
  },
  {
   "cell_type": "code",
   "execution_count": 100,
   "metadata": {},
   "outputs": [
    {
     "name": "stdout",
     "output_type": "stream",
     "text": [
      "MSE:194.858\n",
      "MAE:7.010\n",
      "MAPE: 2.773201249687446\n"
     ]
    }
   ],
   "source": [
    "from xgboost import XGBRegressor\n",
    "\n",
    "#xgb = XGBRegressor(n_estimators=500, learning_rate=0.05, min_child_weight=5, max_depth=4)\n",
    "xgb2 = XGBRegressor(n_estimators=209, learning_rate=0.1, min_child_weight=5, max_depth=4)\n",
    "xgb2.fit(X2_train,y2_train)\n",
    "y2_pred = xgb2.predict(X2_test)\n",
    "\n",
    "\n",
    "print('MSE:%.3f' %mean_squared_error(y2_test, y2_pred))\n",
    "#print('R^2:%.3f' %r2_score(y_test, y_pred))\n",
    "print('MAE:%.3f' %mean_absolute_error(y2_test, y2_pred))\n",
    "\n",
    "y2_test.index = range(len(y2_test))\n",
    "d_all = pd.concat([y2_test, pd.DataFrame(y2_pred, columns=['預測停車數量'])], axis = 1)\n",
    "d_all['差異'] = d_all['預測停車數量'] - d_all['時段停車數']\n",
    "d2_all = d_all[d_all['時段停車數']!=0]\n",
    "print('MAPE:',mape(np.array(d2_all['時段停車數']), np.array(d2_all['預測停車數量'])))"
   ]
  },
  {
   "cell_type": "code",
   "execution_count": 101,
   "metadata": {},
   "outputs": [
    {
     "name": "stdout",
     "output_type": "stream",
     "text": [
      "[3.3598318e-04 3.0545359e-03 8.7968183e-01 0.0000000e+00 1.5580395e-04\n",
      " 2.0684094e-04 1.5579558e-04 1.1824866e-04 4.1361977e-04 7.2829927e-05\n",
      " 3.7521671e-04 8.8542578e-04 3.0360281e-04 1.0686302e-04 1.8244555e-04\n",
      " 6.1046233e-04 2.0742712e-04 4.2817646e-05 0.0000000e+00 0.0000000e+00\n",
      " 0.0000000e+00 0.0000000e+00 1.7298087e-04 3.3010419e-03 4.4326819e-03\n",
      " 7.4989847e-03 1.7193941e-02 1.3793523e-02 3.2899564e-03 1.0396726e-03\n",
      " 3.7265060e-04 1.7952383e-03 4.9554225e-04 3.9883195e-03 2.2122837e-03\n",
      " 7.7939657e-03 2.4717106e-02 1.7984195e-02 3.0082825e-03]\n"
     ]
    }
   ],
   "source": [
    "\n",
    "# feature importance\n",
    "print(xgb2.feature_importances_)\n",
    "# plot feature importance\n",
    "pyplot.rcParams['font.sans-serif'] = ['Arial Unicode MS']\n"
   ]
  },
  {
   "cell_type": "code",
   "execution_count": 105,
   "metadata": {},
   "outputs": [
    {
     "data": {
      "image/png": "[encoded data removed]",
      "text/plain": [
       "<Figure size 432x288 with 1 Axes>"
      ]
     },
     "metadata": {
      "needs_background": "light"
     },
     "output_type": "display_data"
    }
   ],
   "source": [
    "\n",
    "fig2 = plot_importance(xgb2,\n",
    "                height=0.8,\n",
    "                max_num_features=6).figure\n",
    "\n",
    "\n",
    "pyplot.title('峨眉 Feature importance')\n",
    "pyplot.tight_layout()\n",
    "fig2.savefig('峨眉.png',dpi=200)"
   ]
  },
  {
   "cell_type": "code",
   "execution_count": null,
   "metadata": {},
   "outputs": [],
   "source": []
  },
  {
   "cell_type": "code",
   "execution_count": 94,
   "metadata": {},
   "outputs": [
    {
     "data": {
      "text/plain": [
       "0         4\n",
       "1         4\n",
       "2         4\n",
       "3         4\n",
       "4         5\n",
       "       ... \n",
       "6595    551\n",
       "6596    567\n",
       "6597    519\n",
       "6598    400\n",
       "6599    312\n",
       "Name: 時段停車數, Length: 6600, dtype: int64"
      ]
     },
     "execution_count": 94,
     "metadata": {},
     "output_type": "execute_result"
    }
   ],
   "source": [
    "y2_train"
   ]
  },
  {
   "cell_type": "code",
   "execution_count": 616,
   "metadata": {},
   "outputs": [
    {
     "data": {
      "text/plain": [
       "-257.96466064453125"
      ]
     },
     "execution_count": 616,
     "metadata": {},
     "output_type": "execute_result"
    }
   ],
   "source": [
    "d_all['差異'].min()"
   ]
  },
  {
   "cell_type": "code",
   "execution_count": 511,
   "metadata": {},
   "outputs": [],
   "source": [
    "Me_pre=d_all[['預測停車數量']]"
   ]
  },
  {
   "cell_type": "code",
   "execution_count": null,
   "metadata": {},
   "outputs": [],
   "source": [
    "Me_data2=Me_data[(Me_data['時間']>='2021-01-01 00:00:00') & (Me_data['時間']<'2021-04-01 00:00:00')].reset_index()"
   ]
  },
  {
   "cell_type": "code",
   "execution_count": 525,
   "metadata": {},
   "outputs": [],
   "source": [
    "Me_all= pd.concat([Me_data2,Me_pre],axis=1)"
   ]
  },
  {
   "cell_type": "code",
   "execution_count": 526,
   "metadata": {},
   "outputs": [],
   "source": [
    "Me_all=Me_all[['時間','預測停車數量']]"
   ]
  },
  {
   "cell_type": "code",
   "execution_count": 528,
   "metadata": {},
   "outputs": [],
   "source": [
    "Me_all.to_csv('/Users/julia/Desktop/海量研究室/停車場競賽/預測停車場數/峨眉預測停車數_test.csv')"
   ]
  },
  {
   "cell_type": "code",
   "execution_count": null,
   "metadata": {},
   "outputs": [],
   "source": []
  },
  {
   "cell_type": "code",
   "execution_count": null,
   "metadata": {},
   "outputs": [],
   "source": []
  },
  {
   "cell_type": "code",
   "execution_count": null,
   "metadata": {},
   "outputs": [],
   "source": []
  },
  {
   "cell_type": "code",
   "execution_count": null,
   "metadata": {},
   "outputs": [],
   "source": []
  },
  {
   "cell_type": "code",
   "execution_count": null,
   "metadata": {},
   "outputs": [],
   "source": []
  },
  {
   "cell_type": "code",
   "execution_count": null,
   "metadata": {},
   "outputs": [],
   "source": []
  },
  {
   "cell_type": "code",
   "execution_count": 395,
   "metadata": {},
   "outputs": [],
   "source": [
    "import requests\n",
    "from bs4 import BeautifulSoup\n",
    "from selenium import webdriver\n",
    "import time\n",
    "import pandas as pd\n",
    "\n",
    "options = webdriver.ChromeOptions()\n",
    "\n",
    "browser = webdriver.Chrome(r'/Users/julia/Downloads/chromedriver', options=options)\n",
    "\n",
    "url = \"https://www.google.com.tw/maps/place/%E7%93%A6%E5%9F%8E%E5%A4%A7%E5%BF%83(%E5%8F%B0%E4%B8%AD%E6%96%B0%E5%85%89%E4%B8%89%E8%B6%8A%E5%BA%97%EF%BC%89/@24.2335548,120.4303719,10z/data=!4m11!1m2!2m1!1z55Om5Z-O!3m7!1s0x34693d8cb70d7dff:0xe2ec5d39880378a7!8m2!3d24.1652572!4d120.6437083!9m1!1b1!15sCgbnk6bln44iA4gBAVoJIgfnk6Yg5Z-OkgEPdGhhaV9yZXN0YXVyYW50mgEjQ2haRFNVaE5NRzluUzBWSlEwRm5TVVJqTVhJdFZVRm5FQUU?hl=zh-TW\"\n",
    "\n",
    "browser.implicitly_wait(2)\n",
    "browser.get(url)\n",
    "\n"
   ]
  },
  {
   "cell_type": "code",
   "execution_count": 384,
   "metadata": {
    "scrolled": true
   },
   "outputs": [
    {
     "data": {
      "text/plain": [
       "8"
      ]
     },
     "execution_count": 384,
     "metadata": {},
     "output_type": "execute_result"
    }
   ],
   "source": [
    "tmp = browser.find_elements_by_xpath(\"//div[@class='ODSEW-ShBeI-content']\")\n",
    "len(tmp) #每一頁有八個評論"
   ]
  },
  {
   "cell_type": "code",
   "execution_count": 399,
   "metadata": {},
   "outputs": [
    {
     "ename": "JavascriptException",
     "evalue": "Message: javascript error: Invalid or unexpected token\n  (Session info: chrome=92.0.4515.159)\n",
     "output_type": "error",
     "traceback": [
      "\u001b[0;31m---------------------------------------------------------------------------\u001b[0m",
      "\u001b[0;31mJavascriptException\u001b[0m                       Traceback (most recent call last)",
      "\u001b[0;32m<ipython-input-399-183ce67b2bb9>\u001b[0m in \u001b[0;36m<module>\u001b[0;34m\u001b[0m\n\u001b[1;32m      1\u001b[0m \u001b[0;32mwhile\u001b[0m \u001b[0mlen\u001b[0m\u001b[0;34m(\u001b[0m\u001b[0mtmp\u001b[0m\u001b[0;34m)\u001b[0m \u001b[0;34m<\u001b[0m \u001b[0mint\u001b[0m\u001b[0;34m(\u001b[0m\u001b[0;36m43\u001b[0m\u001b[0;34m)\u001b[0m\u001b[0;34m:\u001b[0m \u001b[0;31m#評論總數減6\u001b[0m\u001b[0;34m\u001b[0m\u001b[0;34m\u001b[0m\u001b[0m\n\u001b[0;32m----> 2\u001b[0;31m     browser.execute_script('''\n\u001b[0m\u001b[1;32m      3\u001b[0m         \u001b[0mconst\u001b[0m \u001b[0mbody\u001b[0m \u001b[0;34m=\u001b[0m \u001b[0mdocument\u001b[0m\u001b[0;34m.\u001b[0m\u001b[0mquerySelector\u001b[0m\u001b[0;34m\u001b[0m\u001b[0;34m\u001b[0m\u001b[0m\n\u001b[1;32m      4\u001b[0m         \u001b[0;34m(\u001b[0m\u001b[0;31m‘\u001b[0m\u001b[0mdiv\u001b[0m\u001b[0;34m.\u001b[0m\u001b[0msection\u001b[0m\u001b[0;34m-\u001b[0m\u001b[0mlayout\u001b[0m\u001b[0;34m.\u001b[0m\u001b[0msection\u001b[0m\u001b[0;34m-\u001b[0m\u001b[0mscrollbox\u001b[0m\u001b[0;34m.\u001b[0m\u001b[0mcYB2Ge\u001b[0m\u001b[0;34m-\u001b[0m\u001b[0moHo7ed\u001b[0m\u001b[0;34m.\u001b[0m\u001b[0mcYB2Ge\u001b[0m\u001b[0;34m-\u001b[0m\u001b[0mti6hGc\u001b[0m\u001b[0;31m’\u001b[0m\u001b[0;34m)\u001b[0m\u001b[0;34m;\u001b[0m\u001b[0;34m\u001b[0m\u001b[0;34m\u001b[0m\u001b[0m\n\u001b[1;32m      5\u001b[0m         \u001b[0mbody\u001b[0m\u001b[0;34m.\u001b[0m\u001b[0mscrollTo\u001b[0m\u001b[0;34m(\u001b[0m\u001b[0;36m0\u001b[0m\u001b[0;34m,\u001b[0m \u001b[0mbody\u001b[0m\u001b[0;34m.\u001b[0m\u001b[0mscrollHeight\u001b[0m\u001b[0;34m)\u001b[0m\u001b[0;34m;\u001b[0m\u001b[0;34m\u001b[0m\u001b[0;34m\u001b[0m\u001b[0m\n",
      "\u001b[0;32m~/opt/anaconda3/lib/python3.8/site-packages/selenium/webdriver/remote/webdriver.py\u001b[0m in \u001b[0;36mexecute_script\u001b[0;34m(self, script, *args)\u001b[0m\n\u001b[1;32m    632\u001b[0m             \u001b[0mcommand\u001b[0m \u001b[0;34m=\u001b[0m \u001b[0mCommand\u001b[0m\u001b[0;34m.\u001b[0m\u001b[0mEXECUTE_SCRIPT\u001b[0m\u001b[0;34m\u001b[0m\u001b[0;34m\u001b[0m\u001b[0m\n\u001b[1;32m    633\u001b[0m \u001b[0;34m\u001b[0m\u001b[0m\n\u001b[0;32m--> 634\u001b[0;31m         return self.execute(command, {\n\u001b[0m\u001b[1;32m    635\u001b[0m             \u001b[0;34m'script'\u001b[0m\u001b[0;34m:\u001b[0m \u001b[0mscript\u001b[0m\u001b[0;34m,\u001b[0m\u001b[0;34m\u001b[0m\u001b[0;34m\u001b[0m\u001b[0m\n\u001b[1;32m    636\u001b[0m             'args': converted_args})['value']\n",
      "\u001b[0;32m~/opt/anaconda3/lib/python3.8/site-packages/selenium/webdriver/remote/webdriver.py\u001b[0m in \u001b[0;36mexecute\u001b[0;34m(self, driver_command, params)\u001b[0m\n\u001b[1;32m    319\u001b[0m         \u001b[0mresponse\u001b[0m \u001b[0;34m=\u001b[0m \u001b[0mself\u001b[0m\u001b[0;34m.\u001b[0m\u001b[0mcommand_executor\u001b[0m\u001b[0;34m.\u001b[0m\u001b[0mexecute\u001b[0m\u001b[0;34m(\u001b[0m\u001b[0mdriver_command\u001b[0m\u001b[0;34m,\u001b[0m \u001b[0mparams\u001b[0m\u001b[0;34m)\u001b[0m\u001b[0;34m\u001b[0m\u001b[0;34m\u001b[0m\u001b[0m\n\u001b[1;32m    320\u001b[0m         \u001b[0;32mif\u001b[0m \u001b[0mresponse\u001b[0m\u001b[0;34m:\u001b[0m\u001b[0;34m\u001b[0m\u001b[0;34m\u001b[0m\u001b[0m\n\u001b[0;32m--> 321\u001b[0;31m             \u001b[0mself\u001b[0m\u001b[0;34m.\u001b[0m\u001b[0merror_handler\u001b[0m\u001b[0;34m.\u001b[0m\u001b[0mcheck_response\u001b[0m\u001b[0;34m(\u001b[0m\u001b[0mresponse\u001b[0m\u001b[0;34m)\u001b[0m\u001b[0;34m\u001b[0m\u001b[0;34m\u001b[0m\u001b[0m\n\u001b[0m\u001b[1;32m    322\u001b[0m             response['value'] = self._unwrap_value(\n\u001b[1;32m    323\u001b[0m                 response.get('value', None))\n",
      "\u001b[0;32m~/opt/anaconda3/lib/python3.8/site-packages/selenium/webdriver/remote/errorhandler.py\u001b[0m in \u001b[0;36mcheck_response\u001b[0;34m(self, response)\u001b[0m\n\u001b[1;32m    240\u001b[0m                 \u001b[0malert_text\u001b[0m \u001b[0;34m=\u001b[0m \u001b[0mvalue\u001b[0m\u001b[0;34m[\u001b[0m\u001b[0;34m'alert'\u001b[0m\u001b[0;34m]\u001b[0m\u001b[0;34m.\u001b[0m\u001b[0mget\u001b[0m\u001b[0;34m(\u001b[0m\u001b[0;34m'text'\u001b[0m\u001b[0;34m)\u001b[0m\u001b[0;34m\u001b[0m\u001b[0;34m\u001b[0m\u001b[0m\n\u001b[1;32m    241\u001b[0m             \u001b[0;32mraise\u001b[0m \u001b[0mexception_class\u001b[0m\u001b[0;34m(\u001b[0m\u001b[0mmessage\u001b[0m\u001b[0;34m,\u001b[0m \u001b[0mscreen\u001b[0m\u001b[0;34m,\u001b[0m \u001b[0mstacktrace\u001b[0m\u001b[0;34m,\u001b[0m \u001b[0malert_text\u001b[0m\u001b[0;34m)\u001b[0m\u001b[0;34m\u001b[0m\u001b[0;34m\u001b[0m\u001b[0m\n\u001b[0;32m--> 242\u001b[0;31m         \u001b[0;32mraise\u001b[0m \u001b[0mexception_class\u001b[0m\u001b[0;34m(\u001b[0m\u001b[0mmessage\u001b[0m\u001b[0;34m,\u001b[0m \u001b[0mscreen\u001b[0m\u001b[0;34m,\u001b[0m \u001b[0mstacktrace\u001b[0m\u001b[0;34m)\u001b[0m\u001b[0;34m\u001b[0m\u001b[0;34m\u001b[0m\u001b[0m\n\u001b[0m\u001b[1;32m    243\u001b[0m \u001b[0;34m\u001b[0m\u001b[0m\n\u001b[1;32m    244\u001b[0m     \u001b[0;32mdef\u001b[0m \u001b[0m_value_or_default\u001b[0m\u001b[0;34m(\u001b[0m\u001b[0mself\u001b[0m\u001b[0;34m,\u001b[0m \u001b[0mobj\u001b[0m\u001b[0;34m,\u001b[0m \u001b[0mkey\u001b[0m\u001b[0;34m,\u001b[0m \u001b[0mdefault\u001b[0m\u001b[0;34m)\u001b[0m\u001b[0;34m:\u001b[0m\u001b[0;34m\u001b[0m\u001b[0;34m\u001b[0m\u001b[0m\n",
      "\u001b[0;31mJavascriptException\u001b[0m: Message: javascript error: Invalid or unexpected token\n  (Session info: chrome=92.0.4515.159)\n"
     ]
    }
   ],
   "source": [
    "while len(tmp) < int(43): #評論總數減6\n",
    "    browser.execute_script('''\n",
    "        const body = document.querySelector\n",
    "        (‘div.section-layout.section-scrollbox.cYB2Ge-oHo7ed.cYB2Ge-ti6hGc’);   \n",
    "        body.scrollTo(0, body.scrollHeight);\n",
    "    ''')  \n",
    "    # execute_script ：為執行JavaScript 程式碼\n",
    "    # const ：宣告常數 （在這裡宣告了body之值）\n",
    "    # querySelector 回傳document第一個符合特定選擇器群組的元素，其字串參數必須遵循 CSS 語法\n",
    "    # 透過觀察的方式可以發現，當網頁滾動到最底部的時候會自動加載更多留言，body.scrollTo(0, body.scrollHeight) 為滾動到最底部\n",
    "\n",
    "    time.sleep(0.5) #暫停執行0.5秒\n",
    "\n",
    "    tmp = browser.find_elements_by_xpath(\"//div[@class='ODSEW-ShBeI-content']\")"
   ]
  },
  {
   "cell_type": "code",
   "execution_count": null,
   "metadata": {
    "scrolled": true
   },
   "outputs": [],
   "source": [
    "\n",
    "soup = BeautifulSoup(browser.page_source, 'html.parser') \n",
    "reviewer = soup.find_all('div', {'class': 'ODSEW-ShBeI-title'})\n",
    "stars = soup.find_all('span', {'class': 'ODSEW-ShBeI-H1e3jb'})\n",
    "contents = soup.find_all('span', {'class': 'ODSEW-ShBeI-text'})\n",
    "\n",
    "name = []\n",
    "score = []\n",
    "review_text = []\n",
    "\n",
    "for r_name in reviewer:\n",
    "    name.append(r_name.text)\n",
    "\n",
    "for rating in stars:\n",
    "    score.append(rating['aria-label'])\n",
    "    \n",
    "for review in contents:\n",
    "    review_text.append(review.text)\n",
    "\n",
    "all_data = list(zip(name, score, review_text))\n",
    "\n",
    "df = pd.DataFrame(all_data, columns = ['評論者' , '評價分數', '評論內容'])\n",
    "\n",
    "df.to_csv('review.csv', index=False)\n"
   ]
  },
  {
   "cell_type": "code",
   "execution_count": null,
   "metadata": {},
   "outputs": [],
   "source": []
  }
 ],
 "metadata": {
  "kernelspec": {
   "display_name": "Python 3",
   "language": "python",
   "name": "python3"
  },
  "language_info": {
   "codemirror_mode": {
    "name": "ipython",
    "version": 3
   },
   "file_extension": ".py",
   "mimetype": "text/x-python",
   "name": "python",
   "nbconvert_exporter": "python",
   "pygments_lexer": "ipython3",
   "version": "3.8.3"
  }
 },
 "nbformat": 4,
 "nbformat_minor": 4
}
